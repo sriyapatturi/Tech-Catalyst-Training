{
 "cells": [
  {
   "cell_type": "code",
   "execution_count": null,
   "id": "b22c1cb3-7b7e-402a-81de-c8a1b7db13e0",
   "metadata": {},
   "outputs": [
    {
     "name": "stdout",
     "output_type": "stream",
     "text": [
      "Channels:\n",
      " - conda-forge\n",
      " - defaults\n",
      "Platform: linux-64\n",
      "Collecting package metadata (repodata.json): done\n",
      "Solving environment: done\n",
      "\n",
      "## Package Plan ##\n",
      "\n",
      "  environment location: /home/npatturi/miniconda3/envs/dev1\n",
      "\n",
      "  added / updated specs:\n",
      "    - boto3\n",
      "\n",
      "\n",
      "The following packages will be downloaded:\n",
      "\n",
      "    package                    |            build\n",
      "    ---------------------------|-----------------\n",
      "    boto3-1.34.134             |     pyhd8ed1ab_0          79 KB  conda-forge\n",
      "    botocore-1.34.134          |pyge310_1234567_0         6.7 MB  conda-forge\n",
      "    brotli-python-1.1.0        |  py311hb755f60_1         343 KB  conda-forge\n",
      "    cffi-1.16.0                |  py311hb3a22ac_0         293 KB  conda-forge\n",
      "    h2-4.1.0                   |     pyhd8ed1ab_0          46 KB  conda-forge\n",
      "    hpack-4.0.0                |     pyh9f0ad1d_0          25 KB  conda-forge\n",
      "    hyperframe-6.0.1           |     pyhd8ed1ab_0          14 KB  conda-forge\n",
      "    jmespath-1.0.1             |     pyhd8ed1ab_0          21 KB  conda-forge\n",
      "    pycparser-2.22             |     pyhd8ed1ab_0         103 KB  conda-forge\n",
      "    pysocks-1.7.1              |     pyha2e5f31_6          19 KB  conda-forge\n",
      "    s3transfer-0.10.2          |     pyhd8ed1ab_0          61 KB  conda-forge\n",
      "    urllib3-2.2.2              |     pyhd8ed1ab_1          93 KB  conda-forge\n",
      "    zstandard-0.22.0           |  py311hb6f056b_1         405 KB  conda-forge\n",
      "    ------------------------------------------------------------\n",
      "                                           Total:         8.2 MB\n",
      "\n",
      "The following NEW packages will be INSTALLED:\n",
      "\n",
      "  boto3              conda-forge/noarch::boto3-1.34.134-pyhd8ed1ab_0 \n",
      "  botocore           conda-forge/noarch::botocore-1.34.134-pyge310_1234567_0 \n",
      "  brotli-python      conda-forge/linux-64::brotli-python-1.1.0-py311hb755f60_1 \n",
      "  cffi               conda-forge/linux-64::cffi-1.16.0-py311hb3a22ac_0 \n",
      "  h2                 conda-forge/noarch::h2-4.1.0-pyhd8ed1ab_0 \n",
      "  hpack              conda-forge/noarch::hpack-4.0.0-pyh9f0ad1d_0 \n",
      "  hyperframe         conda-forge/noarch::hyperframe-6.0.1-pyhd8ed1ab_0 \n",
      "  jmespath           conda-forge/noarch::jmespath-1.0.1-pyhd8ed1ab_0 \n",
      "  pycparser          conda-forge/noarch::pycparser-2.22-pyhd8ed1ab_0 \n",
      "  pysocks            conda-forge/noarch::pysocks-1.7.1-pyha2e5f31_6 \n",
      "  s3transfer         conda-forge/noarch::s3transfer-0.10.2-pyhd8ed1ab_0 \n",
      "  urllib3            conda-forge/noarch::urllib3-2.2.2-pyhd8ed1ab_1 \n",
      "  zstandard          conda-forge/linux-64::zstandard-0.22.0-py311hb6f056b_1 \n",
      "\n",
      "\n",
      "Proceed ([y]/n)? "
     ]
    }
   ],
   "source": [
    "# boto 3 - sdk for python \n",
    "!conda install -c conda-forge boto3"
   ]
  },
  {
   "cell_type": "code",
   "execution_count": null,
   "id": "24fe9d04-1fcc-4180-976a-34fc893cde4f",
   "metadata": {},
   "outputs": [],
   "source": [
    "import boto3"
   ]
  },
  {
   "cell_type": "code",
   "execution_count": null,
   "id": "0786ab65-bfe4-4d83-97ec-cc30461c1a3d",
   "metadata": {},
   "outputs": [],
   "source": [
    "# s3client = boto3.client('s3', aws_access_key_id = , aws_secret_access_key = )"
   ]
  },
  {
   "cell_type": "code",
   "execution_count": null,
   "id": "6313058b-0846-48db-b639-e634d74cdd9e",
   "metadata": {},
   "outputs": [],
   "source": [
    "# s3client.list_buckets()"
   ]
  },
  {
   "cell_type": "code",
   "execution_count": null,
   "id": "383b9052-b751-4c04-8619-1e0b5252462c",
   "metadata": {},
   "outputs": [],
   "source": [
    "s3client = boto3.client('s3', aws_access_key_id = AWS_ACCESS_KEY, aws_secret_access_key = AWS_SECRET_KEY)\n"
   ]
  },
  {
   "cell_type": "code",
   "execution_count": null,
   "id": "d0e16908-36d6-475f-88e9-e13b06b6800f",
   "metadata": {},
   "outputs": [],
   "source": [
    "response_obj = s3client.list_objects_v2(Bucket='techcatalyst-raw') # you can see information about the files in the buckets"
   ]
  },
  {
   "cell_type": "code",
   "execution_count": null,
   "id": "6b61627e-e112-4c76-abd9-e7e073b2966d",
   "metadata": {},
   "outputs": [],
   "source": [
    "for obj in response_obj['Contents']:\n",
    "    print(obj['Key'])\n",
    "\n",
    "# to get  list of files\n",
    "myfiles = [obj['Key'] for obj in response_obj['Contents']]"
   ]
  },
  {
   "cell_type": "code",
   "execution_count": null,
   "id": "075d3c91-45e8-495a-b173-538816b933e9",
   "metadata": {},
   "outputs": [],
   "source": [
    "myfiles[0]"
   ]
  },
  {
   "cell_type": "code",
   "execution_count": null,
   "id": "77b9ddd7-b8a2-4f72-b0bb-8d2164eb565f",
   "metadata": {},
   "outputs": [],
   "source": [
    "uri = f's3://{bucket_name}/{myfiles[0]}'\n",
    "uri"
   ]
  },
  {
   "cell_type": "code",
   "execution_count": null,
   "id": "b7748f6d-b8ed-434d-adf8-41ec832ab418",
   "metadata": {},
   "outputs": [],
   "source": [
    "import pandas as pd"
   ]
  },
  {
   "cell_type": "code",
   "execution_count": null,
   "id": "478c3341-aabc-43ce-b11e-ac58bea59fa6",
   "metadata": {},
   "outputs": [],
   "source": [
    "# pandas is a different library from boto3 so a connection needs to be established between pandas and s3"
   ]
  },
  {
   "cell_type": "code",
   "execution_count": null,
   "id": "cccc2367-3c45-42d9-8a82-9b2273fd2d2a",
   "metadata": {},
   "outputs": [],
   "source": [
    "df = pd.read_parquet('s3://techcatalyst-raw/yellow_tripdata_2024-01.parquet', \n",
    "                     storage_options= {\n",
    "                         'key': AWS_ACCESS_KEY,\n",
    "                         'secret': AWS_SECRET_KEY\n",
    "                     })"
   ]
  },
  {
   "cell_type": "code",
   "execution_count": null,
   "id": "178ce351-795d-4f1b-8d84-38ed5229800a",
   "metadata": {},
   "outputs": [],
   "source": []
  }
 ],
 "metadata": {
  "kernelspec": {
   "display_name": "Python [conda env:dev1]",
   "language": "python",
   "name": "conda-env-dev1-py"
  },
  "language_info": {
   "codemirror_mode": {
    "name": "ipython",
    "version": 3
   },
   "file_extension": ".py",
   "mimetype": "text/x-python",
   "name": "python",
   "nbconvert_exporter": "python",
   "pygments_lexer": "ipython3",
   "version": "3.11.9"
  }
 },
 "nbformat": 4,
 "nbformat_minor": 5
}
