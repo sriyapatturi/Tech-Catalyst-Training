{
 "cells": [
  {
   "cell_type": "markdown",
   "id": "84aa06b0-55d0-4319-b92b-f73547115291",
   "metadata": {},
   "source": [
    "## Prepare"
   ]
  },
  {
   "cell_type": "code",
   "execution_count": 1,
   "id": "d533d81f-a2c4-4cc7-afff-5eb90552e6d3",
   "metadata": {},
   "outputs": [
    {
     "ename": "ModuleNotFoundError",
     "evalue": "No module named 'boto3'",
     "output_type": "error",
     "traceback": [
      "\u001b[0;31m---------------------------------------------------------------------------\u001b[0m",
      "\u001b[0;31mModuleNotFoundError\u001b[0m                       Traceback (most recent call last)",
      "Cell \u001b[0;32mIn[1], line 5\u001b[0m\n\u001b[1;32m      3\u001b[0m \u001b[38;5;28;01mimport\u001b[39;00m \u001b[38;5;21;01mconfigparser\u001b[39;00m\n\u001b[1;32m      4\u001b[0m config \u001b[38;5;241m=\u001b[39m configparser\u001b[38;5;241m.\u001b[39mConfigParser()\n\u001b[0;32m----> 5\u001b[0m \u001b[38;5;28;01mimport\u001b[39;00m \u001b[38;5;21;01mboto3\u001b[39;00m\n\u001b[1;32m      7\u001b[0m \u001b[38;5;66;03m# Your Code Here\u001b[39;00m\n",
      "\u001b[0;31mModuleNotFoundError\u001b[0m: No module named 'boto3'"
     ]
    }
   ],
   "source": [
    "import pandas as pd\n",
    "\n",
    "import configparser\n",
    "config = configparser.ConfigParser()\n",
    "import boto3\n",
    "\n",
    "# Your Code Here"
   ]
  },
  {
   "cell_type": "code",
   "execution_count": null,
   "id": "f71a4d6a-268d-40c9-988d-3617e51e1412",
   "metadata": {},
   "outputs": [],
   "source": []
  },
  {
   "cell_type": "code",
   "execution_count": null,
   "id": "1cbd0cc1-a40a-4e42-8a3d-bba0e32301a1",
   "metadata": {},
   "outputs": [
    {
     "data": {
      "text/plain": [
       "['aws.cfg']"
      ]
     },
     "execution_count": 87,
     "metadata": {},
     "output_type": "execute_result"
    }
   ],
   "source": [
    "config.read('aws.cfg')"
   ]
  },
  {
   "cell_type": "code",
   "execution_count": 2,
   "id": "6f622a47-7918-4e5b-96fc-5b07ccff9cab",
   "metadata": {},
   "outputs": [
    {
     "ename": "KeyError",
     "evalue": "'AWS'",
     "output_type": "error",
     "traceback": [
      "\u001b[0;31m---------------------------------------------------------------------------\u001b[0m",
      "\u001b[0;31mKeyError\u001b[0m                                  Traceback (most recent call last)",
      "Cell \u001b[0;32mIn[2], line 1\u001b[0m\n\u001b[0;32m----> 1\u001b[0m AWS_ACCESS_KEY \u001b[38;5;241m=\u001b[39m \u001b[43mconfig\u001b[49m\u001b[43m[\u001b[49m\u001b[38;5;124;43m'\u001b[39;49m\u001b[38;5;124;43mAWS\u001b[39;49m\u001b[38;5;124;43m'\u001b[39;49m\u001b[43m]\u001b[49m[\u001b[38;5;124m'\u001b[39m\u001b[38;5;124maws_access_key\u001b[39m\u001b[38;5;124m'\u001b[39m]\n\u001b[1;32m      2\u001b[0m AWS_SECRET_KEY \u001b[38;5;241m=\u001b[39m config[\u001b[38;5;124m'\u001b[39m\u001b[38;5;124mAWS\u001b[39m\u001b[38;5;124m'\u001b[39m][\u001b[38;5;124m'\u001b[39m\u001b[38;5;124maws_secret_key\u001b[39m\u001b[38;5;124m'\u001b[39m]\n",
      "File \u001b[0;32m/usr/local/python/3.10.13/lib/python3.10/configparser.py:965\u001b[0m, in \u001b[0;36mRawConfigParser.__getitem__\u001b[0;34m(self, key)\u001b[0m\n\u001b[1;32m    963\u001b[0m \u001b[38;5;28;01mdef\u001b[39;00m \u001b[38;5;21m__getitem__\u001b[39m(\u001b[38;5;28mself\u001b[39m, key):\n\u001b[1;32m    964\u001b[0m     \u001b[38;5;28;01mif\u001b[39;00m key \u001b[38;5;241m!=\u001b[39m \u001b[38;5;28mself\u001b[39m\u001b[38;5;241m.\u001b[39mdefault_section \u001b[38;5;129;01mand\u001b[39;00m \u001b[38;5;129;01mnot\u001b[39;00m \u001b[38;5;28mself\u001b[39m\u001b[38;5;241m.\u001b[39mhas_section(key):\n\u001b[0;32m--> 965\u001b[0m         \u001b[38;5;28;01mraise\u001b[39;00m \u001b[38;5;167;01mKeyError\u001b[39;00m(key)\n\u001b[1;32m    966\u001b[0m     \u001b[38;5;28;01mreturn\u001b[39;00m \u001b[38;5;28mself\u001b[39m\u001b[38;5;241m.\u001b[39m_proxies[key]\n",
      "\u001b[0;31mKeyError\u001b[0m: 'AWS'"
     ]
    }
   ],
   "source": [
    "AWS_ACCESS_KEY = config['AWS']['aws_access_key']\n",
    "AWS_SECRET_KEY = config['AWS']['aws_secret_key']\n"
   ]
  },
  {
   "cell_type": "code",
   "execution_count": null,
   "id": "3191be13-322e-4d0f-895b-07960bdb3cf2",
   "metadata": {},
   "outputs": [],
   "source": []
  },
  {
   "cell_type": "code",
   "execution_count": 89,
   "id": "991f14ef-5dc0-467b-8f3d-e6f70f4ff069",
   "metadata": {},
   "outputs": [],
   "source": [
    "# establish your S3 client \n",
    "# https://boto3.amazonaws.com/v1/documentation/api/latest/guide/s3-example-creating-buckets.html\n",
    "# make sure to pass your credentials: aws_access_key_id and aws_secret_access_key\n",
    "s3client = boto3.client('s3', aws_access_key_id = AWS_ACCESS_KEY, aws_secret_access_key = AWS_SECRET_KEY)"
   ]
  },
  {
   "cell_type": "code",
   "execution_count": 90,
   "id": "5c2e64c5-a0f6-4e3d-a043-2c950ed89974",
   "metadata": {},
   "outputs": [
    {
     "ename": "ClientError",
     "evalue": "An error occurred (InvalidAccessKeyId) when calling the ListBuckets operation: The AWS Access Key Id you provided does not exist in our records.",
     "output_type": "error",
     "traceback": [
      "\u001b[0;31m---------------------------------------------------------------------------\u001b[0m",
      "\u001b[0;31mClientError\u001b[0m                               Traceback (most recent call last)",
      "Cell \u001b[0;32mIn[90], line 1\u001b[0m\n\u001b[0;32m----> 1\u001b[0m response \u001b[38;5;241m=\u001b[39m s3client\u001b[38;5;241m.\u001b[39mlist_buckets()\n",
      "File \u001b[0;32m~/miniconda3/envs/dev1/lib/python3.11/site-packages/botocore/client.py:565\u001b[0m, in \u001b[0;36mClientCreator._create_api_method.<locals>._api_call\u001b[0;34m(self, *args, **kwargs)\u001b[0m\n\u001b[1;32m    561\u001b[0m     \u001b[38;5;28;01mraise\u001b[39;00m \u001b[38;5;167;01mTypeError\u001b[39;00m(\n\u001b[1;32m    562\u001b[0m         \u001b[38;5;124mf\u001b[39m\u001b[38;5;124m\"\u001b[39m\u001b[38;5;132;01m{\u001b[39;00mpy_operation_name\u001b[38;5;132;01m}\u001b[39;00m\u001b[38;5;124m() only accepts keyword arguments.\u001b[39m\u001b[38;5;124m\"\u001b[39m\n\u001b[1;32m    563\u001b[0m     )\n\u001b[1;32m    564\u001b[0m \u001b[38;5;66;03m# The \"self\" in this scope is referring to the BaseClient.\u001b[39;00m\n\u001b[0;32m--> 565\u001b[0m \u001b[38;5;28;01mreturn\u001b[39;00m \u001b[38;5;28mself\u001b[39m\u001b[38;5;241m.\u001b[39m_make_api_call(operation_name, kwargs)\n",
      "File \u001b[0;32m~/miniconda3/envs/dev1/lib/python3.11/site-packages/botocore/client.py:1021\u001b[0m, in \u001b[0;36mBaseClient._make_api_call\u001b[0;34m(self, operation_name, api_params)\u001b[0m\n\u001b[1;32m   1017\u001b[0m     error_code \u001b[38;5;241m=\u001b[39m error_info\u001b[38;5;241m.\u001b[39mget(\u001b[38;5;124m\"\u001b[39m\u001b[38;5;124mQueryErrorCode\u001b[39m\u001b[38;5;124m\"\u001b[39m) \u001b[38;5;129;01mor\u001b[39;00m error_info\u001b[38;5;241m.\u001b[39mget(\n\u001b[1;32m   1018\u001b[0m         \u001b[38;5;124m\"\u001b[39m\u001b[38;5;124mCode\u001b[39m\u001b[38;5;124m\"\u001b[39m\n\u001b[1;32m   1019\u001b[0m     )\n\u001b[1;32m   1020\u001b[0m     error_class \u001b[38;5;241m=\u001b[39m \u001b[38;5;28mself\u001b[39m\u001b[38;5;241m.\u001b[39mexceptions\u001b[38;5;241m.\u001b[39mfrom_code(error_code)\n\u001b[0;32m-> 1021\u001b[0m     \u001b[38;5;28;01mraise\u001b[39;00m error_class(parsed_response, operation_name)\n\u001b[1;32m   1022\u001b[0m \u001b[38;5;28;01melse\u001b[39;00m:\n\u001b[1;32m   1023\u001b[0m     \u001b[38;5;28;01mreturn\u001b[39;00m parsed_response\n",
      "\u001b[0;31mClientError\u001b[0m: An error occurred (InvalidAccessKeyId) when calling the ListBuckets operation: The AWS Access Key Id you provided does not exist in our records."
     ]
    }
   ],
   "source": [
    "response = s3client.list_buckets()"
   ]
  },
  {
   "cell_type": "markdown",
   "id": "f1f5ef16-c7ed-4841-a52c-b1f295240dba",
   "metadata": {},
   "source": [
    "## Extract Data"
   ]
  },
  {
   "cell_type": "code",
   "execution_count": 85,
   "id": "cea941a6-931c-4aae-9fea-419cc039094d",
   "metadata": {},
   "outputs": [
    {
     "ename": "PermissionError",
     "evalue": "Forbidden",
     "output_type": "error",
     "traceback": [
      "\u001b[0;31m---------------------------------------------------------------------------\u001b[0m",
      "\u001b[0;31mClientError\u001b[0m                               Traceback (most recent call last)",
      "File \u001b[0;32m~/miniconda3/envs/dev1/lib/python3.11/site-packages/s3fs/core.py:113\u001b[0m, in \u001b[0;36m_error_wrapper\u001b[0;34m(func, args, kwargs, retries)\u001b[0m\n\u001b[1;32m    112\u001b[0m \u001b[38;5;28;01mtry\u001b[39;00m:\n\u001b[0;32m--> 113\u001b[0m     \u001b[38;5;28;01mreturn\u001b[39;00m \u001b[38;5;28;01mawait\u001b[39;00m func(\u001b[38;5;241m*\u001b[39margs, \u001b[38;5;241m*\u001b[39m\u001b[38;5;241m*\u001b[39mkwargs)\n\u001b[1;32m    114\u001b[0m \u001b[38;5;28;01mexcept\u001b[39;00m S3_RETRYABLE_ERRORS \u001b[38;5;28;01mas\u001b[39;00m e:\n",
      "File \u001b[0;32m~/miniconda3/envs/dev1/lib/python3.11/site-packages/aiobotocore/client.py:411\u001b[0m, in \u001b[0;36mAioBaseClient._make_api_call\u001b[0;34m(self, operation_name, api_params)\u001b[0m\n\u001b[1;32m    410\u001b[0m     error_class \u001b[38;5;241m=\u001b[39m \u001b[38;5;28mself\u001b[39m\u001b[38;5;241m.\u001b[39mexceptions\u001b[38;5;241m.\u001b[39mfrom_code(error_code)\n\u001b[0;32m--> 411\u001b[0m     \u001b[38;5;28;01mraise\u001b[39;00m error_class(parsed_response, operation_name)\n\u001b[1;32m    412\u001b[0m \u001b[38;5;28;01melse\u001b[39;00m:\n",
      "\u001b[0;31mClientError\u001b[0m: An error occurred (403) when calling the HeadObject operation: Forbidden",
      "\nThe above exception was the direct cause of the following exception:\n",
      "\u001b[0;31mPermissionError\u001b[0m                           Traceback (most recent call last)",
      "Cell \u001b[0;32mIn[85], line 2\u001b[0m\n\u001b[1;32m      1\u001b[0m \u001b[38;5;66;03m# Read the CSV file \u001b[39;00m\n\u001b[0;32m----> 2\u001b[0m df \u001b[38;5;241m=\u001b[39m pd\u001b[38;5;241m.\u001b[39mread_csv(\u001b[38;5;124m'\u001b[39m\u001b[38;5;124ms3://techcatalyst-raw/SalesRaw/sales_data.csv\u001b[39m\u001b[38;5;124m'\u001b[39m, storage_options\u001b[38;5;241m=\u001b[39m {\n\u001b[1;32m      3\u001b[0m                          \u001b[38;5;124m'\u001b[39m\u001b[38;5;124mkey\u001b[39m\u001b[38;5;124m'\u001b[39m: AWS_ACCESS_KEY,\n\u001b[1;32m      4\u001b[0m                          \u001b[38;5;124m'\u001b[39m\u001b[38;5;124msecret\u001b[39m\u001b[38;5;124m'\u001b[39m: AWS_SECRET_KEY\n\u001b[1;32m      5\u001b[0m                      })\n\u001b[1;32m      6\u001b[0m df\u001b[38;5;241m.\u001b[39mhead()\n",
      "File \u001b[0;32m~/miniconda3/envs/dev1/lib/python3.11/site-packages/pandas/io/parsers/readers.py:1026\u001b[0m, in \u001b[0;36mread_csv\u001b[0;34m(filepath_or_buffer, sep, delimiter, header, names, index_col, usecols, dtype, engine, converters, true_values, false_values, skipinitialspace, skiprows, skipfooter, nrows, na_values, keep_default_na, na_filter, verbose, skip_blank_lines, parse_dates, infer_datetime_format, keep_date_col, date_parser, date_format, dayfirst, cache_dates, iterator, chunksize, compression, thousands, decimal, lineterminator, quotechar, quoting, doublequote, escapechar, comment, encoding, encoding_errors, dialect, on_bad_lines, delim_whitespace, low_memory, memory_map, float_precision, storage_options, dtype_backend)\u001b[0m\n\u001b[1;32m   1013\u001b[0m kwds_defaults \u001b[38;5;241m=\u001b[39m _refine_defaults_read(\n\u001b[1;32m   1014\u001b[0m     dialect,\n\u001b[1;32m   1015\u001b[0m     delimiter,\n\u001b[0;32m   (...)\u001b[0m\n\u001b[1;32m   1022\u001b[0m     dtype_backend\u001b[38;5;241m=\u001b[39mdtype_backend,\n\u001b[1;32m   1023\u001b[0m )\n\u001b[1;32m   1024\u001b[0m kwds\u001b[38;5;241m.\u001b[39mupdate(kwds_defaults)\n\u001b[0;32m-> 1026\u001b[0m \u001b[38;5;28;01mreturn\u001b[39;00m _read(filepath_or_buffer, kwds)\n",
      "File \u001b[0;32m~/miniconda3/envs/dev1/lib/python3.11/site-packages/pandas/io/parsers/readers.py:620\u001b[0m, in \u001b[0;36m_read\u001b[0;34m(filepath_or_buffer, kwds)\u001b[0m\n\u001b[1;32m    617\u001b[0m _validate_names(kwds\u001b[38;5;241m.\u001b[39mget(\u001b[38;5;124m\"\u001b[39m\u001b[38;5;124mnames\u001b[39m\u001b[38;5;124m\"\u001b[39m, \u001b[38;5;28;01mNone\u001b[39;00m))\n\u001b[1;32m    619\u001b[0m \u001b[38;5;66;03m# Create the parser.\u001b[39;00m\n\u001b[0;32m--> 620\u001b[0m parser \u001b[38;5;241m=\u001b[39m TextFileReader(filepath_or_buffer, \u001b[38;5;241m*\u001b[39m\u001b[38;5;241m*\u001b[39mkwds)\n\u001b[1;32m    622\u001b[0m \u001b[38;5;28;01mif\u001b[39;00m chunksize \u001b[38;5;129;01mor\u001b[39;00m iterator:\n\u001b[1;32m    623\u001b[0m     \u001b[38;5;28;01mreturn\u001b[39;00m parser\n",
      "File \u001b[0;32m~/miniconda3/envs/dev1/lib/python3.11/site-packages/pandas/io/parsers/readers.py:1620\u001b[0m, in \u001b[0;36mTextFileReader.__init__\u001b[0;34m(self, f, engine, **kwds)\u001b[0m\n\u001b[1;32m   1617\u001b[0m     \u001b[38;5;28mself\u001b[39m\u001b[38;5;241m.\u001b[39moptions[\u001b[38;5;124m\"\u001b[39m\u001b[38;5;124mhas_index_names\u001b[39m\u001b[38;5;124m\"\u001b[39m] \u001b[38;5;241m=\u001b[39m kwds[\u001b[38;5;124m\"\u001b[39m\u001b[38;5;124mhas_index_names\u001b[39m\u001b[38;5;124m\"\u001b[39m]\n\u001b[1;32m   1619\u001b[0m \u001b[38;5;28mself\u001b[39m\u001b[38;5;241m.\u001b[39mhandles: IOHandles \u001b[38;5;241m|\u001b[39m \u001b[38;5;28;01mNone\u001b[39;00m \u001b[38;5;241m=\u001b[39m \u001b[38;5;28;01mNone\u001b[39;00m\n\u001b[0;32m-> 1620\u001b[0m \u001b[38;5;28mself\u001b[39m\u001b[38;5;241m.\u001b[39m_engine \u001b[38;5;241m=\u001b[39m \u001b[38;5;28mself\u001b[39m\u001b[38;5;241m.\u001b[39m_make_engine(f, \u001b[38;5;28mself\u001b[39m\u001b[38;5;241m.\u001b[39mengine)\n",
      "File \u001b[0;32m~/miniconda3/envs/dev1/lib/python3.11/site-packages/pandas/io/parsers/readers.py:1880\u001b[0m, in \u001b[0;36mTextFileReader._make_engine\u001b[0;34m(self, f, engine)\u001b[0m\n\u001b[1;32m   1878\u001b[0m     \u001b[38;5;28;01mif\u001b[39;00m \u001b[38;5;124m\"\u001b[39m\u001b[38;5;124mb\u001b[39m\u001b[38;5;124m\"\u001b[39m \u001b[38;5;129;01mnot\u001b[39;00m \u001b[38;5;129;01min\u001b[39;00m mode:\n\u001b[1;32m   1879\u001b[0m         mode \u001b[38;5;241m+\u001b[39m\u001b[38;5;241m=\u001b[39m \u001b[38;5;124m\"\u001b[39m\u001b[38;5;124mb\u001b[39m\u001b[38;5;124m\"\u001b[39m\n\u001b[0;32m-> 1880\u001b[0m \u001b[38;5;28mself\u001b[39m\u001b[38;5;241m.\u001b[39mhandles \u001b[38;5;241m=\u001b[39m get_handle(\n\u001b[1;32m   1881\u001b[0m     f,\n\u001b[1;32m   1882\u001b[0m     mode,\n\u001b[1;32m   1883\u001b[0m     encoding\u001b[38;5;241m=\u001b[39m\u001b[38;5;28mself\u001b[39m\u001b[38;5;241m.\u001b[39moptions\u001b[38;5;241m.\u001b[39mget(\u001b[38;5;124m\"\u001b[39m\u001b[38;5;124mencoding\u001b[39m\u001b[38;5;124m\"\u001b[39m, \u001b[38;5;28;01mNone\u001b[39;00m),\n\u001b[1;32m   1884\u001b[0m     compression\u001b[38;5;241m=\u001b[39m\u001b[38;5;28mself\u001b[39m\u001b[38;5;241m.\u001b[39moptions\u001b[38;5;241m.\u001b[39mget(\u001b[38;5;124m\"\u001b[39m\u001b[38;5;124mcompression\u001b[39m\u001b[38;5;124m\"\u001b[39m, \u001b[38;5;28;01mNone\u001b[39;00m),\n\u001b[1;32m   1885\u001b[0m     memory_map\u001b[38;5;241m=\u001b[39m\u001b[38;5;28mself\u001b[39m\u001b[38;5;241m.\u001b[39moptions\u001b[38;5;241m.\u001b[39mget(\u001b[38;5;124m\"\u001b[39m\u001b[38;5;124mmemory_map\u001b[39m\u001b[38;5;124m\"\u001b[39m, \u001b[38;5;28;01mFalse\u001b[39;00m),\n\u001b[1;32m   1886\u001b[0m     is_text\u001b[38;5;241m=\u001b[39mis_text,\n\u001b[1;32m   1887\u001b[0m     errors\u001b[38;5;241m=\u001b[39m\u001b[38;5;28mself\u001b[39m\u001b[38;5;241m.\u001b[39moptions\u001b[38;5;241m.\u001b[39mget(\u001b[38;5;124m\"\u001b[39m\u001b[38;5;124mencoding_errors\u001b[39m\u001b[38;5;124m\"\u001b[39m, \u001b[38;5;124m\"\u001b[39m\u001b[38;5;124mstrict\u001b[39m\u001b[38;5;124m\"\u001b[39m),\n\u001b[1;32m   1888\u001b[0m     storage_options\u001b[38;5;241m=\u001b[39m\u001b[38;5;28mself\u001b[39m\u001b[38;5;241m.\u001b[39moptions\u001b[38;5;241m.\u001b[39mget(\u001b[38;5;124m\"\u001b[39m\u001b[38;5;124mstorage_options\u001b[39m\u001b[38;5;124m\"\u001b[39m, \u001b[38;5;28;01mNone\u001b[39;00m),\n\u001b[1;32m   1889\u001b[0m )\n\u001b[1;32m   1890\u001b[0m \u001b[38;5;28;01massert\u001b[39;00m \u001b[38;5;28mself\u001b[39m\u001b[38;5;241m.\u001b[39mhandles \u001b[38;5;129;01mis\u001b[39;00m \u001b[38;5;129;01mnot\u001b[39;00m \u001b[38;5;28;01mNone\u001b[39;00m\n\u001b[1;32m   1891\u001b[0m f \u001b[38;5;241m=\u001b[39m \u001b[38;5;28mself\u001b[39m\u001b[38;5;241m.\u001b[39mhandles\u001b[38;5;241m.\u001b[39mhandle\n",
      "File \u001b[0;32m~/miniconda3/envs/dev1/lib/python3.11/site-packages/pandas/io/common.py:728\u001b[0m, in \u001b[0;36mget_handle\u001b[0;34m(path_or_buf, mode, encoding, compression, memory_map, is_text, errors, storage_options)\u001b[0m\n\u001b[1;32m    725\u001b[0m     codecs\u001b[38;5;241m.\u001b[39mlookup_error(errors)\n\u001b[1;32m    727\u001b[0m \u001b[38;5;66;03m# open URLs\u001b[39;00m\n\u001b[0;32m--> 728\u001b[0m ioargs \u001b[38;5;241m=\u001b[39m _get_filepath_or_buffer(\n\u001b[1;32m    729\u001b[0m     path_or_buf,\n\u001b[1;32m    730\u001b[0m     encoding\u001b[38;5;241m=\u001b[39mencoding,\n\u001b[1;32m    731\u001b[0m     compression\u001b[38;5;241m=\u001b[39mcompression,\n\u001b[1;32m    732\u001b[0m     mode\u001b[38;5;241m=\u001b[39mmode,\n\u001b[1;32m    733\u001b[0m     storage_options\u001b[38;5;241m=\u001b[39mstorage_options,\n\u001b[1;32m    734\u001b[0m )\n\u001b[1;32m    736\u001b[0m handle \u001b[38;5;241m=\u001b[39m ioargs\u001b[38;5;241m.\u001b[39mfilepath_or_buffer\n\u001b[1;32m    737\u001b[0m handles: \u001b[38;5;28mlist\u001b[39m[BaseBuffer]\n",
      "File \u001b[0;32m~/miniconda3/envs/dev1/lib/python3.11/site-packages/pandas/io/common.py:443\u001b[0m, in \u001b[0;36m_get_filepath_or_buffer\u001b[0;34m(filepath_or_buffer, encoding, compression, mode, storage_options)\u001b[0m\n\u001b[1;32m    439\u001b[0m             storage_options \u001b[38;5;241m=\u001b[39m \u001b[38;5;28mdict\u001b[39m(storage_options)\n\u001b[1;32m    440\u001b[0m             storage_options[\u001b[38;5;124m\"\u001b[39m\u001b[38;5;124manon\u001b[39m\u001b[38;5;124m\"\u001b[39m] \u001b[38;5;241m=\u001b[39m \u001b[38;5;28;01mTrue\u001b[39;00m\n\u001b[1;32m    441\u001b[0m         file_obj \u001b[38;5;241m=\u001b[39m fsspec\u001b[38;5;241m.\u001b[39mopen(\n\u001b[1;32m    442\u001b[0m             filepath_or_buffer, mode\u001b[38;5;241m=\u001b[39mfsspec_mode, \u001b[38;5;241m*\u001b[39m\u001b[38;5;241m*\u001b[39m(storage_options \u001b[38;5;129;01mor\u001b[39;00m {})\n\u001b[0;32m--> 443\u001b[0m         )\u001b[38;5;241m.\u001b[39mopen()\n\u001b[1;32m    445\u001b[0m     \u001b[38;5;28;01mreturn\u001b[39;00m IOArgs(\n\u001b[1;32m    446\u001b[0m         filepath_or_buffer\u001b[38;5;241m=\u001b[39mfile_obj,\n\u001b[1;32m    447\u001b[0m         encoding\u001b[38;5;241m=\u001b[39mencoding,\n\u001b[0;32m   (...)\u001b[0m\n\u001b[1;32m    450\u001b[0m         mode\u001b[38;5;241m=\u001b[39mfsspec_mode,\n\u001b[1;32m    451\u001b[0m     )\n\u001b[1;32m    452\u001b[0m \u001b[38;5;28;01melif\u001b[39;00m storage_options:\n",
      "File \u001b[0;32m~/miniconda3/envs/dev1/lib/python3.11/site-packages/fsspec/core.py:147\u001b[0m, in \u001b[0;36mOpenFile.open\u001b[0;34m(self)\u001b[0m\n\u001b[1;32m    140\u001b[0m \u001b[38;5;28;01mdef\u001b[39;00m \u001b[38;5;21mopen\u001b[39m(\u001b[38;5;28mself\u001b[39m):\n\u001b[1;32m    141\u001b[0m \u001b[38;5;250m    \u001b[39m\u001b[38;5;124;03m\"\"\"Materialise this as a real open file without context\u001b[39;00m\n\u001b[1;32m    142\u001b[0m \n\u001b[1;32m    143\u001b[0m \u001b[38;5;124;03m    The OpenFile object should be explicitly closed to avoid enclosed file\u001b[39;00m\n\u001b[1;32m    144\u001b[0m \u001b[38;5;124;03m    instances persisting. You must, therefore, keep a reference to the OpenFile\u001b[39;00m\n\u001b[1;32m    145\u001b[0m \u001b[38;5;124;03m    during the life of the file-like it generates.\u001b[39;00m\n\u001b[1;32m    146\u001b[0m \u001b[38;5;124;03m    \"\"\"\u001b[39;00m\n\u001b[0;32m--> 147\u001b[0m     \u001b[38;5;28;01mreturn\u001b[39;00m \u001b[38;5;28mself\u001b[39m\u001b[38;5;241m.\u001b[39m\u001b[38;5;21m__enter__\u001b[39m()\n",
      "File \u001b[0;32m~/miniconda3/envs/dev1/lib/python3.11/site-packages/fsspec/core.py:105\u001b[0m, in \u001b[0;36mOpenFile.__enter__\u001b[0;34m(self)\u001b[0m\n\u001b[1;32m    102\u001b[0m mode \u001b[38;5;241m=\u001b[39m \u001b[38;5;28mself\u001b[39m\u001b[38;5;241m.\u001b[39mmode\u001b[38;5;241m.\u001b[39mreplace(\u001b[38;5;124m\"\u001b[39m\u001b[38;5;124mt\u001b[39m\u001b[38;5;124m\"\u001b[39m, \u001b[38;5;124m\"\u001b[39m\u001b[38;5;124m\"\u001b[39m)\u001b[38;5;241m.\u001b[39mreplace(\u001b[38;5;124m\"\u001b[39m\u001b[38;5;124mb\u001b[39m\u001b[38;5;124m\"\u001b[39m, \u001b[38;5;124m\"\u001b[39m\u001b[38;5;124m\"\u001b[39m) \u001b[38;5;241m+\u001b[39m \u001b[38;5;124m\"\u001b[39m\u001b[38;5;124mb\u001b[39m\u001b[38;5;124m\"\u001b[39m\n\u001b[1;32m    104\u001b[0m \u001b[38;5;28;01mtry\u001b[39;00m:\n\u001b[0;32m--> 105\u001b[0m     f \u001b[38;5;241m=\u001b[39m \u001b[38;5;28mself\u001b[39m\u001b[38;5;241m.\u001b[39mfs\u001b[38;5;241m.\u001b[39mopen(\u001b[38;5;28mself\u001b[39m\u001b[38;5;241m.\u001b[39mpath, mode\u001b[38;5;241m=\u001b[39mmode)\n\u001b[1;32m    106\u001b[0m \u001b[38;5;28;01mexcept\u001b[39;00m \u001b[38;5;167;01mFileNotFoundError\u001b[39;00m \u001b[38;5;28;01mas\u001b[39;00m e:\n\u001b[1;32m    107\u001b[0m     \u001b[38;5;28;01mif\u001b[39;00m has_magic(\u001b[38;5;28mself\u001b[39m\u001b[38;5;241m.\u001b[39mpath):\n",
      "File \u001b[0;32m~/miniconda3/envs/dev1/lib/python3.11/site-packages/fsspec/spec.py:1303\u001b[0m, in \u001b[0;36mAbstractFileSystem.open\u001b[0;34m(self, path, mode, block_size, cache_options, compression, **kwargs)\u001b[0m\n\u001b[1;32m   1301\u001b[0m \u001b[38;5;28;01melse\u001b[39;00m:\n\u001b[1;32m   1302\u001b[0m     ac \u001b[38;5;241m=\u001b[39m kwargs\u001b[38;5;241m.\u001b[39mpop(\u001b[38;5;124m\"\u001b[39m\u001b[38;5;124mautocommit\u001b[39m\u001b[38;5;124m\"\u001b[39m, \u001b[38;5;129;01mnot\u001b[39;00m \u001b[38;5;28mself\u001b[39m\u001b[38;5;241m.\u001b[39m_intrans)\n\u001b[0;32m-> 1303\u001b[0m     f \u001b[38;5;241m=\u001b[39m \u001b[38;5;28mself\u001b[39m\u001b[38;5;241m.\u001b[39m_open(\n\u001b[1;32m   1304\u001b[0m         path,\n\u001b[1;32m   1305\u001b[0m         mode\u001b[38;5;241m=\u001b[39mmode,\n\u001b[1;32m   1306\u001b[0m         block_size\u001b[38;5;241m=\u001b[39mblock_size,\n\u001b[1;32m   1307\u001b[0m         autocommit\u001b[38;5;241m=\u001b[39mac,\n\u001b[1;32m   1308\u001b[0m         cache_options\u001b[38;5;241m=\u001b[39mcache_options,\n\u001b[1;32m   1309\u001b[0m         \u001b[38;5;241m*\u001b[39m\u001b[38;5;241m*\u001b[39mkwargs,\n\u001b[1;32m   1310\u001b[0m     )\n\u001b[1;32m   1311\u001b[0m     \u001b[38;5;28;01mif\u001b[39;00m compression \u001b[38;5;129;01mis\u001b[39;00m \u001b[38;5;129;01mnot\u001b[39;00m \u001b[38;5;28;01mNone\u001b[39;00m:\n\u001b[1;32m   1312\u001b[0m         \u001b[38;5;28;01mfrom\u001b[39;00m \u001b[38;5;21;01mfsspec\u001b[39;00m\u001b[38;5;21;01m.\u001b[39;00m\u001b[38;5;21;01mcompression\u001b[39;00m \u001b[38;5;28;01mimport\u001b[39;00m compr\n",
      "File \u001b[0;32m~/miniconda3/envs/dev1/lib/python3.11/site-packages/s3fs/core.py:688\u001b[0m, in \u001b[0;36mS3FileSystem._open\u001b[0;34m(self, path, mode, block_size, acl, version_id, fill_cache, cache_type, autocommit, size, requester_pays, cache_options, **kwargs)\u001b[0m\n\u001b[1;32m    685\u001b[0m \u001b[38;5;28;01mif\u001b[39;00m cache_type \u001b[38;5;129;01mis\u001b[39;00m \u001b[38;5;28;01mNone\u001b[39;00m:\n\u001b[1;32m    686\u001b[0m     cache_type \u001b[38;5;241m=\u001b[39m \u001b[38;5;28mself\u001b[39m\u001b[38;5;241m.\u001b[39mdefault_cache_type\n\u001b[0;32m--> 688\u001b[0m \u001b[38;5;28;01mreturn\u001b[39;00m S3File(\n\u001b[1;32m    689\u001b[0m     \u001b[38;5;28mself\u001b[39m,\n\u001b[1;32m    690\u001b[0m     path,\n\u001b[1;32m    691\u001b[0m     mode,\n\u001b[1;32m    692\u001b[0m     block_size\u001b[38;5;241m=\u001b[39mblock_size,\n\u001b[1;32m    693\u001b[0m     acl\u001b[38;5;241m=\u001b[39macl,\n\u001b[1;32m    694\u001b[0m     version_id\u001b[38;5;241m=\u001b[39mversion_id,\n\u001b[1;32m    695\u001b[0m     fill_cache\u001b[38;5;241m=\u001b[39mfill_cache,\n\u001b[1;32m    696\u001b[0m     s3_additional_kwargs\u001b[38;5;241m=\u001b[39mkw,\n\u001b[1;32m    697\u001b[0m     cache_type\u001b[38;5;241m=\u001b[39mcache_type,\n\u001b[1;32m    698\u001b[0m     autocommit\u001b[38;5;241m=\u001b[39mautocommit,\n\u001b[1;32m    699\u001b[0m     requester_pays\u001b[38;5;241m=\u001b[39mrequester_pays,\n\u001b[1;32m    700\u001b[0m     cache_options\u001b[38;5;241m=\u001b[39mcache_options,\n\u001b[1;32m    701\u001b[0m     size\u001b[38;5;241m=\u001b[39msize,\n\u001b[1;32m    702\u001b[0m )\n",
      "File \u001b[0;32m~/miniconda3/envs/dev1/lib/python3.11/site-packages/s3fs/core.py:2182\u001b[0m, in \u001b[0;36mS3File.__init__\u001b[0;34m(self, s3, path, mode, block_size, acl, version_id, fill_cache, s3_additional_kwargs, autocommit, cache_type, requester_pays, cache_options, size)\u001b[0m\n\u001b[1;32m   2180\u001b[0m         \u001b[38;5;28mself\u001b[39m\u001b[38;5;241m.\u001b[39mdetails \u001b[38;5;241m=\u001b[39m s3\u001b[38;5;241m.\u001b[39minfo(path)\n\u001b[1;32m   2181\u001b[0m         \u001b[38;5;28mself\u001b[39m\u001b[38;5;241m.\u001b[39mversion_id \u001b[38;5;241m=\u001b[39m \u001b[38;5;28mself\u001b[39m\u001b[38;5;241m.\u001b[39mdetails\u001b[38;5;241m.\u001b[39mget(\u001b[38;5;124m\"\u001b[39m\u001b[38;5;124mVersionId\u001b[39m\u001b[38;5;124m\"\u001b[39m)\n\u001b[0;32m-> 2182\u001b[0m \u001b[38;5;28msuper\u001b[39m()\u001b[38;5;241m.\u001b[39m\u001b[38;5;21m__init__\u001b[39m(\n\u001b[1;32m   2183\u001b[0m     s3,\n\u001b[1;32m   2184\u001b[0m     path,\n\u001b[1;32m   2185\u001b[0m     mode,\n\u001b[1;32m   2186\u001b[0m     block_size,\n\u001b[1;32m   2187\u001b[0m     autocommit\u001b[38;5;241m=\u001b[39mautocommit,\n\u001b[1;32m   2188\u001b[0m     cache_type\u001b[38;5;241m=\u001b[39mcache_type,\n\u001b[1;32m   2189\u001b[0m     cache_options\u001b[38;5;241m=\u001b[39mcache_options,\n\u001b[1;32m   2190\u001b[0m     size\u001b[38;5;241m=\u001b[39msize,\n\u001b[1;32m   2191\u001b[0m )\n\u001b[1;32m   2192\u001b[0m \u001b[38;5;28mself\u001b[39m\u001b[38;5;241m.\u001b[39ms3 \u001b[38;5;241m=\u001b[39m \u001b[38;5;28mself\u001b[39m\u001b[38;5;241m.\u001b[39mfs  \u001b[38;5;66;03m# compatibility\u001b[39;00m\n\u001b[1;32m   2194\u001b[0m \u001b[38;5;66;03m# when not using autocommit we want to have transactional state to manage\u001b[39;00m\n",
      "File \u001b[0;32m~/miniconda3/envs/dev1/lib/python3.11/site-packages/fsspec/spec.py:1698\u001b[0m, in \u001b[0;36mAbstractBufferedFile.__init__\u001b[0;34m(self, fs, path, mode, block_size, autocommit, cache_type, cache_options, size, **kwargs)\u001b[0m\n\u001b[1;32m   1696\u001b[0m         \u001b[38;5;28mself\u001b[39m\u001b[38;5;241m.\u001b[39msize \u001b[38;5;241m=\u001b[39m size\n\u001b[1;32m   1697\u001b[0m     \u001b[38;5;28;01melse\u001b[39;00m:\n\u001b[0;32m-> 1698\u001b[0m         \u001b[38;5;28mself\u001b[39m\u001b[38;5;241m.\u001b[39msize \u001b[38;5;241m=\u001b[39m \u001b[38;5;28mself\u001b[39m\u001b[38;5;241m.\u001b[39mdetails[\u001b[38;5;124m\"\u001b[39m\u001b[38;5;124msize\u001b[39m\u001b[38;5;124m\"\u001b[39m]\n\u001b[1;32m   1699\u001b[0m     \u001b[38;5;28mself\u001b[39m\u001b[38;5;241m.\u001b[39mcache \u001b[38;5;241m=\u001b[39m caches[cache_type](\n\u001b[1;32m   1700\u001b[0m         \u001b[38;5;28mself\u001b[39m\u001b[38;5;241m.\u001b[39mblocksize, \u001b[38;5;28mself\u001b[39m\u001b[38;5;241m.\u001b[39m_fetch_range, \u001b[38;5;28mself\u001b[39m\u001b[38;5;241m.\u001b[39msize, \u001b[38;5;241m*\u001b[39m\u001b[38;5;241m*\u001b[39mcache_options\n\u001b[1;32m   1701\u001b[0m     )\n\u001b[1;32m   1702\u001b[0m \u001b[38;5;28;01melse\u001b[39;00m:\n",
      "File \u001b[0;32m~/miniconda3/envs/dev1/lib/python3.11/site-packages/fsspec/spec.py:1711\u001b[0m, in \u001b[0;36mAbstractBufferedFile.details\u001b[0;34m(self)\u001b[0m\n\u001b[1;32m   1708\u001b[0m \u001b[38;5;129m@property\u001b[39m\n\u001b[1;32m   1709\u001b[0m \u001b[38;5;28;01mdef\u001b[39;00m \u001b[38;5;21mdetails\u001b[39m(\u001b[38;5;28mself\u001b[39m):\n\u001b[1;32m   1710\u001b[0m     \u001b[38;5;28;01mif\u001b[39;00m \u001b[38;5;28mself\u001b[39m\u001b[38;5;241m.\u001b[39m_details \u001b[38;5;129;01mis\u001b[39;00m \u001b[38;5;28;01mNone\u001b[39;00m:\n\u001b[0;32m-> 1711\u001b[0m         \u001b[38;5;28mself\u001b[39m\u001b[38;5;241m.\u001b[39m_details \u001b[38;5;241m=\u001b[39m \u001b[38;5;28mself\u001b[39m\u001b[38;5;241m.\u001b[39mfs\u001b[38;5;241m.\u001b[39minfo(\u001b[38;5;28mself\u001b[39m\u001b[38;5;241m.\u001b[39mpath)\n\u001b[1;32m   1712\u001b[0m     \u001b[38;5;28;01mreturn\u001b[39;00m \u001b[38;5;28mself\u001b[39m\u001b[38;5;241m.\u001b[39m_details\n",
      "File \u001b[0;32m~/miniconda3/envs/dev1/lib/python3.11/site-packages/fsspec/asyn.py:118\u001b[0m, in \u001b[0;36msync_wrapper.<locals>.wrapper\u001b[0;34m(*args, **kwargs)\u001b[0m\n\u001b[1;32m    115\u001b[0m \u001b[38;5;129m@functools\u001b[39m\u001b[38;5;241m.\u001b[39mwraps(func)\n\u001b[1;32m    116\u001b[0m \u001b[38;5;28;01mdef\u001b[39;00m \u001b[38;5;21mwrapper\u001b[39m(\u001b[38;5;241m*\u001b[39margs, \u001b[38;5;241m*\u001b[39m\u001b[38;5;241m*\u001b[39mkwargs):\n\u001b[1;32m    117\u001b[0m     \u001b[38;5;28mself\u001b[39m \u001b[38;5;241m=\u001b[39m obj \u001b[38;5;129;01mor\u001b[39;00m args[\u001b[38;5;241m0\u001b[39m]\n\u001b[0;32m--> 118\u001b[0m     \u001b[38;5;28;01mreturn\u001b[39;00m sync(\u001b[38;5;28mself\u001b[39m\u001b[38;5;241m.\u001b[39mloop, func, \u001b[38;5;241m*\u001b[39margs, \u001b[38;5;241m*\u001b[39m\u001b[38;5;241m*\u001b[39mkwargs)\n",
      "File \u001b[0;32m~/miniconda3/envs/dev1/lib/python3.11/site-packages/fsspec/asyn.py:103\u001b[0m, in \u001b[0;36msync\u001b[0;34m(loop, func, timeout, *args, **kwargs)\u001b[0m\n\u001b[1;32m    101\u001b[0m     \u001b[38;5;28;01mraise\u001b[39;00m FSTimeoutError \u001b[38;5;28;01mfrom\u001b[39;00m \u001b[38;5;21;01mreturn_result\u001b[39;00m\n\u001b[1;32m    102\u001b[0m \u001b[38;5;28;01melif\u001b[39;00m \u001b[38;5;28misinstance\u001b[39m(return_result, \u001b[38;5;167;01mBaseException\u001b[39;00m):\n\u001b[0;32m--> 103\u001b[0m     \u001b[38;5;28;01mraise\u001b[39;00m return_result\n\u001b[1;32m    104\u001b[0m \u001b[38;5;28;01melse\u001b[39;00m:\n\u001b[1;32m    105\u001b[0m     \u001b[38;5;28;01mreturn\u001b[39;00m return_result\n",
      "File \u001b[0;32m~/miniconda3/envs/dev1/lib/python3.11/site-packages/fsspec/asyn.py:56\u001b[0m, in \u001b[0;36m_runner\u001b[0;34m(event, coro, result, timeout)\u001b[0m\n\u001b[1;32m     54\u001b[0m     coro \u001b[38;5;241m=\u001b[39m asyncio\u001b[38;5;241m.\u001b[39mwait_for(coro, timeout\u001b[38;5;241m=\u001b[39mtimeout)\n\u001b[1;32m     55\u001b[0m \u001b[38;5;28;01mtry\u001b[39;00m:\n\u001b[0;32m---> 56\u001b[0m     result[\u001b[38;5;241m0\u001b[39m] \u001b[38;5;241m=\u001b[39m \u001b[38;5;28;01mawait\u001b[39;00m coro\n\u001b[1;32m     57\u001b[0m \u001b[38;5;28;01mexcept\u001b[39;00m \u001b[38;5;167;01mException\u001b[39;00m \u001b[38;5;28;01mas\u001b[39;00m ex:\n\u001b[1;32m     58\u001b[0m     result[\u001b[38;5;241m0\u001b[39m] \u001b[38;5;241m=\u001b[39m ex\n",
      "File \u001b[0;32m~/miniconda3/envs/dev1/lib/python3.11/site-packages/s3fs/core.py:1374\u001b[0m, in \u001b[0;36mS3FileSystem._info\u001b[0;34m(self, path, bucket, key, refresh, version_id)\u001b[0m\n\u001b[1;32m   1372\u001b[0m \u001b[38;5;28;01mif\u001b[39;00m key:\n\u001b[1;32m   1373\u001b[0m     \u001b[38;5;28;01mtry\u001b[39;00m:\n\u001b[0;32m-> 1374\u001b[0m         out \u001b[38;5;241m=\u001b[39m \u001b[38;5;28;01mawait\u001b[39;00m \u001b[38;5;28mself\u001b[39m\u001b[38;5;241m.\u001b[39m_call_s3(\n\u001b[1;32m   1375\u001b[0m             \u001b[38;5;124m\"\u001b[39m\u001b[38;5;124mhead_object\u001b[39m\u001b[38;5;124m\"\u001b[39m,\n\u001b[1;32m   1376\u001b[0m             \u001b[38;5;28mself\u001b[39m\u001b[38;5;241m.\u001b[39mkwargs,\n\u001b[1;32m   1377\u001b[0m             Bucket\u001b[38;5;241m=\u001b[39mbucket,\n\u001b[1;32m   1378\u001b[0m             Key\u001b[38;5;241m=\u001b[39mkey,\n\u001b[1;32m   1379\u001b[0m             \u001b[38;5;241m*\u001b[39m\u001b[38;5;241m*\u001b[39mversion_id_kw(version_id),\n\u001b[1;32m   1380\u001b[0m             \u001b[38;5;241m*\u001b[39m\u001b[38;5;241m*\u001b[39m\u001b[38;5;28mself\u001b[39m\u001b[38;5;241m.\u001b[39mreq_kw,\n\u001b[1;32m   1381\u001b[0m         )\n\u001b[1;32m   1382\u001b[0m         \u001b[38;5;28;01mreturn\u001b[39;00m {\n\u001b[1;32m   1383\u001b[0m             \u001b[38;5;124m\"\u001b[39m\u001b[38;5;124mETag\u001b[39m\u001b[38;5;124m\"\u001b[39m: out\u001b[38;5;241m.\u001b[39mget(\u001b[38;5;124m\"\u001b[39m\u001b[38;5;124mETag\u001b[39m\u001b[38;5;124m\"\u001b[39m, \u001b[38;5;124m\"\u001b[39m\u001b[38;5;124m\"\u001b[39m),\n\u001b[1;32m   1384\u001b[0m             \u001b[38;5;124m\"\u001b[39m\u001b[38;5;124mLastModified\u001b[39m\u001b[38;5;124m\"\u001b[39m: out\u001b[38;5;241m.\u001b[39mget(\u001b[38;5;124m\"\u001b[39m\u001b[38;5;124mLastModified\u001b[39m\u001b[38;5;124m\"\u001b[39m, \u001b[38;5;124m\"\u001b[39m\u001b[38;5;124m\"\u001b[39m),\n\u001b[0;32m   (...)\u001b[0m\n\u001b[1;32m   1390\u001b[0m             \u001b[38;5;124m\"\u001b[39m\u001b[38;5;124mContentType\u001b[39m\u001b[38;5;124m\"\u001b[39m: out\u001b[38;5;241m.\u001b[39mget(\u001b[38;5;124m\"\u001b[39m\u001b[38;5;124mContentType\u001b[39m\u001b[38;5;124m\"\u001b[39m),\n\u001b[1;32m   1391\u001b[0m         }\n\u001b[1;32m   1392\u001b[0m     \u001b[38;5;28;01mexcept\u001b[39;00m \u001b[38;5;167;01mFileNotFoundError\u001b[39;00m:\n",
      "File \u001b[0;32m~/miniconda3/envs/dev1/lib/python3.11/site-packages/s3fs/core.py:365\u001b[0m, in \u001b[0;36mS3FileSystem._call_s3\u001b[0;34m(self, method, *akwarglist, **kwargs)\u001b[0m\n\u001b[1;32m    363\u001b[0m logger\u001b[38;5;241m.\u001b[39mdebug(\u001b[38;5;124m\"\u001b[39m\u001b[38;5;124mCALL: \u001b[39m\u001b[38;5;132;01m%s\u001b[39;00m\u001b[38;5;124m - \u001b[39m\u001b[38;5;132;01m%s\u001b[39;00m\u001b[38;5;124m - \u001b[39m\u001b[38;5;132;01m%s\u001b[39;00m\u001b[38;5;124m\"\u001b[39m, method\u001b[38;5;241m.\u001b[39m\u001b[38;5;18m__name__\u001b[39m, akwarglist, kw2)\n\u001b[1;32m    364\u001b[0m additional_kwargs \u001b[38;5;241m=\u001b[39m \u001b[38;5;28mself\u001b[39m\u001b[38;5;241m.\u001b[39m_get_s3_method_kwargs(method, \u001b[38;5;241m*\u001b[39makwarglist, \u001b[38;5;241m*\u001b[39m\u001b[38;5;241m*\u001b[39mkwargs)\n\u001b[0;32m--> 365\u001b[0m \u001b[38;5;28;01mreturn\u001b[39;00m \u001b[38;5;28;01mawait\u001b[39;00m _error_wrapper(\n\u001b[1;32m    366\u001b[0m     method, kwargs\u001b[38;5;241m=\u001b[39madditional_kwargs, retries\u001b[38;5;241m=\u001b[39m\u001b[38;5;28mself\u001b[39m\u001b[38;5;241m.\u001b[39mretries\n\u001b[1;32m    367\u001b[0m )\n",
      "File \u001b[0;32m~/miniconda3/envs/dev1/lib/python3.11/site-packages/s3fs/core.py:145\u001b[0m, in \u001b[0;36m_error_wrapper\u001b[0;34m(func, args, kwargs, retries)\u001b[0m\n\u001b[1;32m    143\u001b[0m         err \u001b[38;5;241m=\u001b[39m e\n\u001b[1;32m    144\u001b[0m err \u001b[38;5;241m=\u001b[39m translate_boto_error(err)\n\u001b[0;32m--> 145\u001b[0m \u001b[38;5;28;01mraise\u001b[39;00m err\n",
      "\u001b[0;31mPermissionError\u001b[0m: Forbidden"
     ]
    }
   ],
   "source": [
    "# Read the CSV file \n",
    "df = pd.read_csv('s3://techcatalyst-raw/SalesRaw/sales_data.csv', storage_options= {\n",
    "                         'key': AWS_ACCESS_KEY,\n",
    "                         'secret': AWS_SECRET_KEY\n",
    "                     })\n",
    "df.head()"
   ]
  },
  {
   "cell_type": "code",
   "execution_count": null,
   "id": "e6636cec-2bbb-48f5-9c12-338e8687be43",
   "metadata": {},
   "outputs": [],
   "source": []
  },
  {
   "cell_type": "code",
   "execution_count": 10,
   "id": "d49c9c1d-038d-47f7-b578-79eb5f93a7f5",
   "metadata": {},
   "outputs": [
    {
     "data": {
      "text/html": [
       "<div>\n",
       "<style scoped>\n",
       "    .dataframe tbody tr th:only-of-type {\n",
       "        vertical-align: middle;\n",
       "    }\n",
       "\n",
       "    .dataframe tbody tr th {\n",
       "        vertical-align: top;\n",
       "    }\n",
       "\n",
       "    .dataframe thead th {\n",
       "        text-align: right;\n",
       "    }\n",
       "</style>\n",
       "<table border=\"1\" class=\"dataframe\">\n",
       "  <thead>\n",
       "    <tr style=\"text-align: right;\">\n",
       "      <th></th>\n",
       "      <th>DateTime</th>\n",
       "      <th>Time Zone</th>\n",
       "      <th>Sales Amount</th>\n",
       "      <th>Country</th>\n",
       "      <th>Sales Person</th>\n",
       "    </tr>\n",
       "  </thead>\n",
       "  <tbody>\n",
       "    <tr>\n",
       "      <th>0</th>\n",
       "      <td>2024-06-15 05:56:00</td>\n",
       "      <td>Australia/Sydney</td>\n",
       "      <td>NaN</td>\n",
       "      <td>Australia</td>\n",
       "      <td>David</td>\n",
       "    </tr>\n",
       "    <tr>\n",
       "      <th>1</th>\n",
       "      <td>2024-09-30 05:36:00</td>\n",
       "      <td>Europe/Berlin</td>\n",
       "      <td>23882.74</td>\n",
       "      <td>Germany</td>\n",
       "      <td>Alice</td>\n",
       "    </tr>\n",
       "    <tr>\n",
       "      <th>2</th>\n",
       "      <td>2024-02-01 15:04:00</td>\n",
       "      <td>Australia/Sydney</td>\n",
       "      <td>NaN</td>\n",
       "      <td>Australia</td>\n",
       "      <td>Eve</td>\n",
       "    </tr>\n",
       "    <tr>\n",
       "      <th>3</th>\n",
       "      <td>2024-04-24 05:12:00</td>\n",
       "      <td>Australia/Sydney</td>\n",
       "      <td>20945.38</td>\n",
       "      <td>Australia</td>\n",
       "      <td>Alice</td>\n",
       "    </tr>\n",
       "    <tr>\n",
       "      <th>4</th>\n",
       "      <td>2024-07-11 00:33:00</td>\n",
       "      <td>Europe/Berlin</td>\n",
       "      <td>NaN</td>\n",
       "      <td>Germany</td>\n",
       "      <td>David</td>\n",
       "    </tr>\n",
       "  </tbody>\n",
       "</table>\n",
       "</div>"
      ],
      "text/plain": [
       "              DateTime         Time Zone Sales Amount    Country Sales Person\n",
       "0  2024-06-15 05:56:00  Australia/Sydney          NaN  Australia        David\n",
       "1  2024-09-30 05:36:00     Europe/Berlin     23882.74    Germany        Alice\n",
       "2  2024-02-01 15:04:00  Australia/Sydney          NaN  Australia          Eve\n",
       "3  2024-04-24 05:12:00  Australia/Sydney     20945.38  Australia        Alice\n",
       "4  2024-07-11 00:33:00     Europe/Berlin          NaN    Germany        David"
      ]
     },
     "execution_count": 10,
     "metadata": {},
     "output_type": "execute_result"
    }
   ],
   "source": [
    "df.head()"
   ]
  },
  {
   "cell_type": "code",
   "execution_count": 11,
   "id": "ac1f103f-f4c8-4e6f-bfb0-0721af154e11",
   "metadata": {},
   "outputs": [
    {
     "data": {
      "text/html": [
       "<div>\n",
       "<style scoped>\n",
       "    .dataframe tbody tr th:only-of-type {\n",
       "        vertical-align: middle;\n",
       "    }\n",
       "\n",
       "    .dataframe tbody tr th {\n",
       "        vertical-align: top;\n",
       "    }\n",
       "\n",
       "    .dataframe thead th {\n",
       "        text-align: right;\n",
       "    }\n",
       "</style>\n",
       "<table border=\"1\" class=\"dataframe\">\n",
       "  <thead>\n",
       "    <tr style=\"text-align: right;\">\n",
       "      <th></th>\n",
       "      <th>DateTime</th>\n",
       "      <th>Time Zone</th>\n",
       "      <th>Sales Amount</th>\n",
       "      <th>Country</th>\n",
       "      <th>Sales Person</th>\n",
       "    </tr>\n",
       "  </thead>\n",
       "  <tbody>\n",
       "    <tr>\n",
       "      <th>count</th>\n",
       "      <td>10000</td>\n",
       "      <td>10000</td>\n",
       "      <td>5951</td>\n",
       "      <td>10000</td>\n",
       "      <td>10000</td>\n",
       "    </tr>\n",
       "    <tr>\n",
       "      <th>unique</th>\n",
       "      <td>9913</td>\n",
       "      <td>5</td>\n",
       "      <td>3905</td>\n",
       "      <td>5</td>\n",
       "      <td>5</td>\n",
       "    </tr>\n",
       "    <tr>\n",
       "      <th>top</th>\n",
       "      <td>2024-01-26 13:39:00</td>\n",
       "      <td>UTC</td>\n",
       "      <td>?</td>\n",
       "      <td>United Kingdom</td>\n",
       "      <td>Eve</td>\n",
       "    </tr>\n",
       "    <tr>\n",
       "      <th>freq</th>\n",
       "      <td>3</td>\n",
       "      <td>2046</td>\n",
       "      <td>2025</td>\n",
       "      <td>2046</td>\n",
       "      <td>2041</td>\n",
       "    </tr>\n",
       "  </tbody>\n",
       "</table>\n",
       "</div>"
      ],
      "text/plain": [
       "                   DateTime Time Zone Sales Amount         Country  \\\n",
       "count                 10000     10000         5951           10000   \n",
       "unique                 9913         5         3905               5   \n",
       "top     2024-01-26 13:39:00       UTC            ?  United Kingdom   \n",
       "freq                      3      2046         2025            2046   \n",
       "\n",
       "       Sales Person  \n",
       "count         10000  \n",
       "unique            5  \n",
       "top             Eve  \n",
       "freq           2041  "
      ]
     },
     "execution_count": 11,
     "metadata": {},
     "output_type": "execute_result"
    }
   ],
   "source": [
    "df.describe(include='all')"
   ]
  },
  {
   "cell_type": "code",
   "execution_count": 12,
   "id": "f4442ce2-4ce1-4774-8206-7537494e56dc",
   "metadata": {},
   "outputs": [
    {
     "name": "stdout",
     "output_type": "stream",
     "text": [
      "<class 'pandas.core.frame.DataFrame'>\n",
      "RangeIndex: 10000 entries, 0 to 9999\n",
      "Data columns (total 5 columns):\n",
      " #   Column        Non-Null Count  Dtype \n",
      "---  ------        --------------  ----- \n",
      " 0   DateTime      10000 non-null  object\n",
      " 1   Time Zone     10000 non-null  object\n",
      " 2   Sales Amount  5951 non-null   object\n",
      " 3   Country       10000 non-null  object\n",
      " 4   Sales Person  10000 non-null  object\n",
      "dtypes: object(5)\n",
      "memory usage: 390.8+ KB\n"
     ]
    }
   ],
   "source": [
    "df.info()"
   ]
  },
  {
   "cell_type": "markdown",
   "id": "35ac0270-335d-4248-a89a-f54c4cb2fda6",
   "metadata": {},
   "source": [
    "## Extract and Transform"
   ]
  },
  {
   "cell_type": "code",
   "execution_count": 17,
   "id": "450b05bc-772e-4759-a671-766b55942837",
   "metadata": {},
   "outputs": [],
   "source": [
    "# Read the file agian, but now by better identifying the potential NA values, also Parse the DateTime. Do it in one step while reading the file\n",
    "\n",
    "df = pd.read_csv('s3://techcatalyst-raw/SalesRaw/sales_data.csv', parse_dates=['DateTime'], storage_options= {'key': AWS_ACCESS_KEY,'secret': AWS_SECRET_KEY},na_values={'?'})"
   ]
  },
  {
   "cell_type": "code",
   "execution_count": 18,
   "id": "d9936b6b-1e82-4bd8-97f3-abb8bd8561bc",
   "metadata": {},
   "outputs": [
    {
     "data": {
      "text/html": [
       "<div>\n",
       "<style scoped>\n",
       "    .dataframe tbody tr th:only-of-type {\n",
       "        vertical-align: middle;\n",
       "    }\n",
       "\n",
       "    .dataframe tbody tr th {\n",
       "        vertical-align: top;\n",
       "    }\n",
       "\n",
       "    .dataframe thead th {\n",
       "        text-align: right;\n",
       "    }\n",
       "</style>\n",
       "<table border=\"1\" class=\"dataframe\">\n",
       "  <thead>\n",
       "    <tr style=\"text-align: right;\">\n",
       "      <th></th>\n",
       "      <th>DateTime</th>\n",
       "      <th>Time Zone</th>\n",
       "      <th>Sales Amount</th>\n",
       "      <th>Country</th>\n",
       "      <th>Sales Person</th>\n",
       "    </tr>\n",
       "  </thead>\n",
       "  <tbody>\n",
       "    <tr>\n",
       "      <th>0</th>\n",
       "      <td>2024-06-15 05:56:00</td>\n",
       "      <td>Australia/Sydney</td>\n",
       "      <td>NaN</td>\n",
       "      <td>Australia</td>\n",
       "      <td>David</td>\n",
       "    </tr>\n",
       "    <tr>\n",
       "      <th>1</th>\n",
       "      <td>2024-09-30 05:36:00</td>\n",
       "      <td>Europe/Berlin</td>\n",
       "      <td>23882.74</td>\n",
       "      <td>Germany</td>\n",
       "      <td>Alice</td>\n",
       "    </tr>\n",
       "    <tr>\n",
       "      <th>2</th>\n",
       "      <td>2024-02-01 15:04:00</td>\n",
       "      <td>Australia/Sydney</td>\n",
       "      <td>NaN</td>\n",
       "      <td>Australia</td>\n",
       "      <td>Eve</td>\n",
       "    </tr>\n",
       "    <tr>\n",
       "      <th>3</th>\n",
       "      <td>2024-04-24 05:12:00</td>\n",
       "      <td>Australia/Sydney</td>\n",
       "      <td>20945.38</td>\n",
       "      <td>Australia</td>\n",
       "      <td>Alice</td>\n",
       "    </tr>\n",
       "    <tr>\n",
       "      <th>4</th>\n",
       "      <td>2024-07-11 00:33:00</td>\n",
       "      <td>Europe/Berlin</td>\n",
       "      <td>NaN</td>\n",
       "      <td>Germany</td>\n",
       "      <td>David</td>\n",
       "    </tr>\n",
       "  </tbody>\n",
       "</table>\n",
       "</div>"
      ],
      "text/plain": [
       "             DateTime         Time Zone  Sales Amount    Country Sales Person\n",
       "0 2024-06-15 05:56:00  Australia/Sydney           NaN  Australia        David\n",
       "1 2024-09-30 05:36:00     Europe/Berlin      23882.74    Germany        Alice\n",
       "2 2024-02-01 15:04:00  Australia/Sydney           NaN  Australia          Eve\n",
       "3 2024-04-24 05:12:00  Australia/Sydney      20945.38  Australia        Alice\n",
       "4 2024-07-11 00:33:00     Europe/Berlin           NaN    Germany        David"
      ]
     },
     "execution_count": 18,
     "metadata": {},
     "output_type": "execute_result"
    }
   ],
   "source": [
    "df.head()"
   ]
  },
  {
   "cell_type": "code",
   "execution_count": 19,
   "id": "6c5985e9-65cd-4671-bd69-63a28b4355c6",
   "metadata": {},
   "outputs": [
    {
     "data": {
      "text/html": [
       "<div>\n",
       "<style scoped>\n",
       "    .dataframe tbody tr th:only-of-type {\n",
       "        vertical-align: middle;\n",
       "    }\n",
       "\n",
       "    .dataframe tbody tr th {\n",
       "        vertical-align: top;\n",
       "    }\n",
       "\n",
       "    .dataframe thead th {\n",
       "        text-align: right;\n",
       "    }\n",
       "</style>\n",
       "<table border=\"1\" class=\"dataframe\">\n",
       "  <thead>\n",
       "    <tr style=\"text-align: right;\">\n",
       "      <th></th>\n",
       "      <th>DateTime</th>\n",
       "      <th>Time Zone</th>\n",
       "      <th>Sales Amount</th>\n",
       "      <th>Country</th>\n",
       "      <th>Sales Person</th>\n",
       "    </tr>\n",
       "  </thead>\n",
       "  <tbody>\n",
       "    <tr>\n",
       "      <th>0</th>\n",
       "      <td>2024-06-15 05:56:00</td>\n",
       "      <td>Australia/Sydney</td>\n",
       "      <td>NaN</td>\n",
       "      <td>Australia</td>\n",
       "      <td>David</td>\n",
       "    </tr>\n",
       "    <tr>\n",
       "      <th>1</th>\n",
       "      <td>2024-09-30 05:36:00</td>\n",
       "      <td>Europe/Berlin</td>\n",
       "      <td>23882.74</td>\n",
       "      <td>Germany</td>\n",
       "      <td>Alice</td>\n",
       "    </tr>\n",
       "    <tr>\n",
       "      <th>2</th>\n",
       "      <td>2024-02-01 15:04:00</td>\n",
       "      <td>Australia/Sydney</td>\n",
       "      <td>NaN</td>\n",
       "      <td>Australia</td>\n",
       "      <td>Eve</td>\n",
       "    </tr>\n",
       "    <tr>\n",
       "      <th>3</th>\n",
       "      <td>2024-04-24 05:12:00</td>\n",
       "      <td>Australia/Sydney</td>\n",
       "      <td>20945.38</td>\n",
       "      <td>Australia</td>\n",
       "      <td>Alice</td>\n",
       "    </tr>\n",
       "    <tr>\n",
       "      <th>4</th>\n",
       "      <td>2024-07-11 00:33:00</td>\n",
       "      <td>Europe/Berlin</td>\n",
       "      <td>NaN</td>\n",
       "      <td>Germany</td>\n",
       "      <td>David</td>\n",
       "    </tr>\n",
       "  </tbody>\n",
       "</table>\n",
       "</div>"
      ],
      "text/plain": [
       "             DateTime         Time Zone  Sales Amount    Country Sales Person\n",
       "0 2024-06-15 05:56:00  Australia/Sydney           NaN  Australia        David\n",
       "1 2024-09-30 05:36:00     Europe/Berlin      23882.74    Germany        Alice\n",
       "2 2024-02-01 15:04:00  Australia/Sydney           NaN  Australia          Eve\n",
       "3 2024-04-24 05:12:00  Australia/Sydney      20945.38  Australia        Alice\n",
       "4 2024-07-11 00:33:00     Europe/Berlin           NaN    Germany        David"
      ]
     },
     "execution_count": 19,
     "metadata": {},
     "output_type": "execute_result"
    }
   ],
   "source": [
    "df.head()"
   ]
  },
  {
   "cell_type": "code",
   "execution_count": 20,
   "id": "6bb05c03-6074-4d35-ac79-b8d04f162306",
   "metadata": {},
   "outputs": [
    {
     "name": "stdout",
     "output_type": "stream",
     "text": [
      "<class 'pandas.core.frame.DataFrame'>\n",
      "RangeIndex: 10000 entries, 0 to 9999\n",
      "Data columns (total 5 columns):\n",
      " #   Column        Non-Null Count  Dtype         \n",
      "---  ------        --------------  -----         \n",
      " 0   DateTime      10000 non-null  datetime64[ns]\n",
      " 1   Time Zone     10000 non-null  object        \n",
      " 2   Sales Amount  3926 non-null   float64       \n",
      " 3   Country       10000 non-null  object        \n",
      " 4   Sales Person  10000 non-null  object        \n",
      "dtypes: datetime64[ns](1), float64(1), object(3)\n",
      "memory usage: 390.8+ KB\n"
     ]
    }
   ],
   "source": [
    "df.info()"
   ]
  },
  {
   "cell_type": "code",
   "execution_count": 274,
   "id": "414b8061-930f-488b-871b-861e2dda7660",
   "metadata": {},
   "outputs": [
    {
     "name": "stdout",
     "output_type": "stream",
     "text": [
      "<class 'pandas.core.frame.DataFrame'>\n",
      "RangeIndex: 10000 entries, 0 to 9999\n",
      "Data columns (total 5 columns):\n",
      " #   Column        Non-Null Count  Dtype         \n",
      "---  ------        --------------  -----         \n",
      " 0   DateTime      10000 non-null  datetime64[ns]\n",
      " 1   Time Zone     10000 non-null  object        \n",
      " 2   Sales Amount  3926 non-null   float64       \n",
      " 3   Country       10000 non-null  object        \n",
      " 4   Sales Person  10000 non-null  object        \n",
      "dtypes: datetime64[ns](1), float64(1), object(3)\n",
      "memory usage: 390.8+ KB\n"
     ]
    }
   ],
   "source": [
    "df.info()"
   ]
  },
  {
   "cell_type": "code",
   "execution_count": 21,
   "id": "cb30160b-51ca-4bed-a904-ff005feb78f7",
   "metadata": {},
   "outputs": [
    {
     "data": {
      "text/html": [
       "<div>\n",
       "<style scoped>\n",
       "    .dataframe tbody tr th:only-of-type {\n",
       "        vertical-align: middle;\n",
       "    }\n",
       "\n",
       "    .dataframe tbody tr th {\n",
       "        vertical-align: top;\n",
       "    }\n",
       "\n",
       "    .dataframe thead th {\n",
       "        text-align: right;\n",
       "    }\n",
       "</style>\n",
       "<table border=\"1\" class=\"dataframe\">\n",
       "  <thead>\n",
       "    <tr style=\"text-align: right;\">\n",
       "      <th></th>\n",
       "      <th>DateTime</th>\n",
       "      <th>Sales Amount</th>\n",
       "    </tr>\n",
       "  </thead>\n",
       "  <tbody>\n",
       "    <tr>\n",
       "      <th>count</th>\n",
       "      <td>10000</td>\n",
       "      <td>3926.000000</td>\n",
       "    </tr>\n",
       "    <tr>\n",
       "      <th>mean</th>\n",
       "      <td>2024-07-01 02:47:21.606000128</td>\n",
       "      <td>15572.928839</td>\n",
       "    </tr>\n",
       "    <tr>\n",
       "      <th>min</th>\n",
       "      <td>2024-01-01 00:01:00</td>\n",
       "      <td>10.380000</td>\n",
       "    </tr>\n",
       "    <tr>\n",
       "      <th>25%</th>\n",
       "      <td>2024-03-31 14:52:45</td>\n",
       "      <td>514.525000</td>\n",
       "    </tr>\n",
       "    <tr>\n",
       "      <th>50%</th>\n",
       "      <td>2024-06-30 13:37:00</td>\n",
       "      <td>10891.170000</td>\n",
       "    </tr>\n",
       "    <tr>\n",
       "      <th>75%</th>\n",
       "      <td>2024-09-30 05:46:45</td>\n",
       "      <td>30655.217500</td>\n",
       "    </tr>\n",
       "    <tr>\n",
       "      <th>max</th>\n",
       "      <td>2024-12-30 21:37:00</td>\n",
       "      <td>49996.820000</td>\n",
       "    </tr>\n",
       "    <tr>\n",
       "      <th>std</th>\n",
       "      <td>NaN</td>\n",
       "      <td>16922.555911</td>\n",
       "    </tr>\n",
       "  </tbody>\n",
       "</table>\n",
       "</div>"
      ],
      "text/plain": [
       "                            DateTime  Sales Amount\n",
       "count                          10000   3926.000000\n",
       "mean   2024-07-01 02:47:21.606000128  15572.928839\n",
       "min              2024-01-01 00:01:00     10.380000\n",
       "25%              2024-03-31 14:52:45    514.525000\n",
       "50%              2024-06-30 13:37:00  10891.170000\n",
       "75%              2024-09-30 05:46:45  30655.217500\n",
       "max              2024-12-30 21:37:00  49996.820000\n",
       "std                              NaN  16922.555911"
      ]
     },
     "execution_count": 21,
     "metadata": {},
     "output_type": "execute_result"
    }
   ],
   "source": [
    "df.describe()"
   ]
  },
  {
   "cell_type": "code",
   "execution_count": 275,
   "id": "36ee0126-c240-479b-940c-3dbe235b770a",
   "metadata": {},
   "outputs": [
    {
     "data": {
      "text/html": [
       "<div>\n",
       "<style scoped>\n",
       "    .dataframe tbody tr th:only-of-type {\n",
       "        vertical-align: middle;\n",
       "    }\n",
       "\n",
       "    .dataframe tbody tr th {\n",
       "        vertical-align: top;\n",
       "    }\n",
       "\n",
       "    .dataframe thead th {\n",
       "        text-align: right;\n",
       "    }\n",
       "</style>\n",
       "<table border=\"1\" class=\"dataframe\">\n",
       "  <thead>\n",
       "    <tr style=\"text-align: right;\">\n",
       "      <th></th>\n",
       "      <th>DateTime</th>\n",
       "      <th>Sales Amount</th>\n",
       "    </tr>\n",
       "  </thead>\n",
       "  <tbody>\n",
       "    <tr>\n",
       "      <th>count</th>\n",
       "      <td>10000</td>\n",
       "      <td>3926.000000</td>\n",
       "    </tr>\n",
       "    <tr>\n",
       "      <th>mean</th>\n",
       "      <td>2024-07-01 02:47:21.606000128</td>\n",
       "      <td>15572.928839</td>\n",
       "    </tr>\n",
       "    <tr>\n",
       "      <th>min</th>\n",
       "      <td>2024-01-01 00:01:00</td>\n",
       "      <td>10.380000</td>\n",
       "    </tr>\n",
       "    <tr>\n",
       "      <th>25%</th>\n",
       "      <td>2024-03-31 14:52:45</td>\n",
       "      <td>514.525000</td>\n",
       "    </tr>\n",
       "    <tr>\n",
       "      <th>50%</th>\n",
       "      <td>2024-06-30 13:37:00</td>\n",
       "      <td>10891.170000</td>\n",
       "    </tr>\n",
       "    <tr>\n",
       "      <th>75%</th>\n",
       "      <td>2024-09-30 05:46:45</td>\n",
       "      <td>30655.217500</td>\n",
       "    </tr>\n",
       "    <tr>\n",
       "      <th>max</th>\n",
       "      <td>2024-12-30 21:37:00</td>\n",
       "      <td>49996.820000</td>\n",
       "    </tr>\n",
       "    <tr>\n",
       "      <th>std</th>\n",
       "      <td>NaN</td>\n",
       "      <td>16922.555911</td>\n",
       "    </tr>\n",
       "  </tbody>\n",
       "</table>\n",
       "</div>"
      ],
      "text/plain": [
       "                            DateTime  Sales Amount\n",
       "count                          10000   3926.000000\n",
       "mean   2024-07-01 02:47:21.606000128  15572.928839\n",
       "min              2024-01-01 00:01:00     10.380000\n",
       "25%              2024-03-31 14:52:45    514.525000\n",
       "50%              2024-06-30 13:37:00  10891.170000\n",
       "75%              2024-09-30 05:46:45  30655.217500\n",
       "max              2024-12-30 21:37:00  49996.820000\n",
       "std                              NaN  16922.555911"
      ]
     },
     "execution_count": 275,
     "metadata": {},
     "output_type": "execute_result"
    }
   ],
   "source": [
    "df.describe()"
   ]
  },
  {
   "cell_type": "code",
   "execution_count": 33,
   "id": "4137f883-d579-4846-8362-27d58ba603ff",
   "metadata": {},
   "outputs": [
    {
     "data": {
      "text/html": [
       "<div>\n",
       "<style scoped>\n",
       "    .dataframe tbody tr th:only-of-type {\n",
       "        vertical-align: middle;\n",
       "    }\n",
       "\n",
       "    .dataframe tbody tr th {\n",
       "        vertical-align: top;\n",
       "    }\n",
       "\n",
       "    .dataframe thead th {\n",
       "        text-align: right;\n",
       "    }\n",
       "</style>\n",
       "<table border=\"1\" class=\"dataframe\">\n",
       "  <thead>\n",
       "    <tr style=\"text-align: right;\">\n",
       "      <th></th>\n",
       "      <th>DateTime</th>\n",
       "      <th>Time Zone</th>\n",
       "      <th>Sales Amount</th>\n",
       "      <th>Country</th>\n",
       "      <th>Sales Person</th>\n",
       "    </tr>\n",
       "  </thead>\n",
       "  <tbody>\n",
       "    <tr>\n",
       "      <th>0</th>\n",
       "      <td>2024-06-15 05:56:00</td>\n",
       "      <td>Australia/Sydney</td>\n",
       "      <td>NaN</td>\n",
       "      <td>Australia</td>\n",
       "      <td>David</td>\n",
       "    </tr>\n",
       "    <tr>\n",
       "      <th>1</th>\n",
       "      <td>2024-09-30 05:36:00</td>\n",
       "      <td>Europe/Berlin</td>\n",
       "      <td>23882.74</td>\n",
       "      <td>Germany</td>\n",
       "      <td>Alice</td>\n",
       "    </tr>\n",
       "    <tr>\n",
       "      <th>2</th>\n",
       "      <td>2024-02-01 15:04:00</td>\n",
       "      <td>Australia/Sydney</td>\n",
       "      <td>NaN</td>\n",
       "      <td>Australia</td>\n",
       "      <td>Eve</td>\n",
       "    </tr>\n",
       "    <tr>\n",
       "      <th>3</th>\n",
       "      <td>2024-04-24 05:12:00</td>\n",
       "      <td>Australia/Sydney</td>\n",
       "      <td>20945.38</td>\n",
       "      <td>Australia</td>\n",
       "      <td>Alice</td>\n",
       "    </tr>\n",
       "    <tr>\n",
       "      <th>4</th>\n",
       "      <td>2024-07-11 00:33:00</td>\n",
       "      <td>Europe/Berlin</td>\n",
       "      <td>NaN</td>\n",
       "      <td>Germany</td>\n",
       "      <td>David</td>\n",
       "    </tr>\n",
       "    <tr>\n",
       "      <th>...</th>\n",
       "      <td>...</td>\n",
       "      <td>...</td>\n",
       "      <td>...</td>\n",
       "      <td>...</td>\n",
       "      <td>...</td>\n",
       "    </tr>\n",
       "    <tr>\n",
       "      <th>9995</th>\n",
       "      <td>2024-11-18 14:35:00</td>\n",
       "      <td>Europe/Berlin</td>\n",
       "      <td>NaN</td>\n",
       "      <td>Germany</td>\n",
       "      <td>Bob</td>\n",
       "    </tr>\n",
       "    <tr>\n",
       "      <th>9996</th>\n",
       "      <td>2024-05-04 10:13:00</td>\n",
       "      <td>Asia/Tokyo</td>\n",
       "      <td>287.35</td>\n",
       "      <td>Japan</td>\n",
       "      <td>Bob</td>\n",
       "    </tr>\n",
       "    <tr>\n",
       "      <th>9997</th>\n",
       "      <td>2024-03-07 03:51:00</td>\n",
       "      <td>Australia/Sydney</td>\n",
       "      <td>NaN</td>\n",
       "      <td>Australia</td>\n",
       "      <td>Bob</td>\n",
       "    </tr>\n",
       "    <tr>\n",
       "      <th>9998</th>\n",
       "      <td>2024-10-26 04:30:00</td>\n",
       "      <td>Australia/Sydney</td>\n",
       "      <td>175.50</td>\n",
       "      <td>Australia</td>\n",
       "      <td>Eve</td>\n",
       "    </tr>\n",
       "    <tr>\n",
       "      <th>9999</th>\n",
       "      <td>2024-08-19 05:29:00</td>\n",
       "      <td>Asia/Tokyo</td>\n",
       "      <td>NaN</td>\n",
       "      <td>Japan</td>\n",
       "      <td>David</td>\n",
       "    </tr>\n",
       "  </tbody>\n",
       "</table>\n",
       "<p>10000 rows × 5 columns</p>\n",
       "</div>"
      ],
      "text/plain": [
       "                DateTime         Time Zone  Sales Amount    Country  \\\n",
       "0    2024-06-15 05:56:00  Australia/Sydney           NaN  Australia   \n",
       "1    2024-09-30 05:36:00     Europe/Berlin      23882.74    Germany   \n",
       "2    2024-02-01 15:04:00  Australia/Sydney           NaN  Australia   \n",
       "3    2024-04-24 05:12:00  Australia/Sydney      20945.38  Australia   \n",
       "4    2024-07-11 00:33:00     Europe/Berlin           NaN    Germany   \n",
       "...                  ...               ...           ...        ...   \n",
       "9995 2024-11-18 14:35:00     Europe/Berlin           NaN    Germany   \n",
       "9996 2024-05-04 10:13:00        Asia/Tokyo        287.35      Japan   \n",
       "9997 2024-03-07 03:51:00  Australia/Sydney           NaN  Australia   \n",
       "9998 2024-10-26 04:30:00  Australia/Sydney        175.50  Australia   \n",
       "9999 2024-08-19 05:29:00        Asia/Tokyo           NaN      Japan   \n",
       "\n",
       "     Sales Person  \n",
       "0           David  \n",
       "1           Alice  \n",
       "2             Eve  \n",
       "3           Alice  \n",
       "4           David  \n",
       "...           ...  \n",
       "9995          Bob  \n",
       "9996          Bob  \n",
       "9997          Bob  \n",
       "9998          Eve  \n",
       "9999        David  \n",
       "\n",
       "[10000 rows x 5 columns]"
      ]
     },
     "execution_count": 33,
     "metadata": {},
     "output_type": "execute_result"
    }
   ],
   "source": [
    "# Remove outlier values in Sales. Later you will learn how to statistically determine outliers. For now, an SME told you the threshold is 37,000\n",
    "threshold = 37000\n",
    "df.loc[df['Sales Amount'] > threshold, 'Sales Amount'] = pd.NA\n",
    "# now replace the outlier values with pd.NA \n",
    "# Your code\n",
    "df"
   ]
  },
  {
   "cell_type": "code",
   "execution_count": 34,
   "id": "28d4cac7-ff3a-4877-9df2-c05b31ad7105",
   "metadata": {},
   "outputs": [
    {
     "name": "stdout",
     "output_type": "stream",
     "text": [
      "<class 'pandas.core.frame.DataFrame'>\n",
      "RangeIndex: 10000 entries, 0 to 9999\n",
      "Data columns (total 5 columns):\n",
      " #   Column        Non-Null Count  Dtype         \n",
      "---  ------        --------------  -----         \n",
      " 0   DateTime      10000 non-null  datetime64[ns]\n",
      " 1   Time Zone     10000 non-null  object        \n",
      " 2   Sales Amount  3252 non-null   float64       \n",
      " 3   Country       10000 non-null  object        \n",
      " 4   Sales Person  10000 non-null  object        \n",
      "dtypes: datetime64[ns](1), float64(1), object(3)\n",
      "memory usage: 390.8+ KB\n"
     ]
    }
   ],
   "source": [
    "df.info()"
   ]
  },
  {
   "cell_type": "code",
   "execution_count": 35,
   "id": "7d877b31-09fc-4a6a-8b7f-cf6f9156a967",
   "metadata": {},
   "outputs": [
    {
     "name": "stdout",
     "output_type": "stream",
     "text": [
      "<class 'pandas.core.frame.DataFrame'>\n",
      "RangeIndex: 10000 entries, 0 to 9999\n",
      "Data columns (total 5 columns):\n",
      " #   Column        Non-Null Count  Dtype         \n",
      "---  ------        --------------  -----         \n",
      " 0   DateTime      10000 non-null  datetime64[ns]\n",
      " 1   Time Zone     10000 non-null  object        \n",
      " 2   Sales Amount  3252 non-null   float64       \n",
      " 3   Country       10000 non-null  object        \n",
      " 4   Sales Person  10000 non-null  object        \n",
      "dtypes: datetime64[ns](1), float64(1), object(3)\n",
      "memory usage: 390.8+ KB\n"
     ]
    }
   ],
   "source": [
    "df.info()"
   ]
  },
  {
   "cell_type": "code",
   "execution_count": 36,
   "id": "5e2b1550-c4c7-4cf4-87d6-3465e3ce53ea",
   "metadata": {},
   "outputs": [
    {
     "data": {
      "text/plain": [
       "9829.400738007382"
      ]
     },
     "execution_count": 36,
     "metadata": {},
     "output_type": "execute_result"
    }
   ],
   "source": [
    "# Replace all null values with the overall mean \n",
    "# 9829.400738007382\n",
    "average = df['Sales Amount'].mean()\n",
    "average"
   ]
  },
  {
   "cell_type": "code",
   "execution_count": 37,
   "id": "98423ecb-3d72-4329-8d5b-e9bf31085e33",
   "metadata": {},
   "outputs": [],
   "source": [
    "# Now fill all NA values with that mean\n",
    "# Your code here\n",
    "df['Sales Amount'] = df['Sales Amount'].fillna(value=average)"
   ]
  },
  {
   "cell_type": "code",
   "execution_count": 38,
   "id": "09873051-5bf0-4eb9-a30e-f8f61850991f",
   "metadata": {},
   "outputs": [
    {
     "data": {
      "text/html": [
       "<div>\n",
       "<style scoped>\n",
       "    .dataframe tbody tr th:only-of-type {\n",
       "        vertical-align: middle;\n",
       "    }\n",
       "\n",
       "    .dataframe tbody tr th {\n",
       "        vertical-align: top;\n",
       "    }\n",
       "\n",
       "    .dataframe thead th {\n",
       "        text-align: right;\n",
       "    }\n",
       "</style>\n",
       "<table border=\"1\" class=\"dataframe\">\n",
       "  <thead>\n",
       "    <tr style=\"text-align: right;\">\n",
       "      <th></th>\n",
       "      <th>DateTime</th>\n",
       "      <th>Time Zone</th>\n",
       "      <th>Sales Amount</th>\n",
       "      <th>Country</th>\n",
       "      <th>Sales Person</th>\n",
       "    </tr>\n",
       "  </thead>\n",
       "  <tbody>\n",
       "    <tr>\n",
       "      <th>0</th>\n",
       "      <td>2024-06-15 05:56:00</td>\n",
       "      <td>Australia/Sydney</td>\n",
       "      <td>9829.400738</td>\n",
       "      <td>Australia</td>\n",
       "      <td>David</td>\n",
       "    </tr>\n",
       "    <tr>\n",
       "      <th>1</th>\n",
       "      <td>2024-09-30 05:36:00</td>\n",
       "      <td>Europe/Berlin</td>\n",
       "      <td>23882.740000</td>\n",
       "      <td>Germany</td>\n",
       "      <td>Alice</td>\n",
       "    </tr>\n",
       "    <tr>\n",
       "      <th>2</th>\n",
       "      <td>2024-02-01 15:04:00</td>\n",
       "      <td>Australia/Sydney</td>\n",
       "      <td>9829.400738</td>\n",
       "      <td>Australia</td>\n",
       "      <td>Eve</td>\n",
       "    </tr>\n",
       "    <tr>\n",
       "      <th>3</th>\n",
       "      <td>2024-04-24 05:12:00</td>\n",
       "      <td>Australia/Sydney</td>\n",
       "      <td>20945.380000</td>\n",
       "      <td>Australia</td>\n",
       "      <td>Alice</td>\n",
       "    </tr>\n",
       "    <tr>\n",
       "      <th>4</th>\n",
       "      <td>2024-07-11 00:33:00</td>\n",
       "      <td>Europe/Berlin</td>\n",
       "      <td>9829.400738</td>\n",
       "      <td>Germany</td>\n",
       "      <td>David</td>\n",
       "    </tr>\n",
       "  </tbody>\n",
       "</table>\n",
       "</div>"
      ],
      "text/plain": [
       "             DateTime         Time Zone  Sales Amount    Country Sales Person\n",
       "0 2024-06-15 05:56:00  Australia/Sydney   9829.400738  Australia        David\n",
       "1 2024-09-30 05:36:00     Europe/Berlin  23882.740000    Germany        Alice\n",
       "2 2024-02-01 15:04:00  Australia/Sydney   9829.400738  Australia          Eve\n",
       "3 2024-04-24 05:12:00  Australia/Sydney  20945.380000  Australia        Alice\n",
       "4 2024-07-11 00:33:00     Europe/Berlin   9829.400738    Germany        David"
      ]
     },
     "execution_count": 38,
     "metadata": {},
     "output_type": "execute_result"
    }
   ],
   "source": [
    "df.head()"
   ]
  },
  {
   "cell_type": "code",
   "execution_count": 280,
   "id": "ff962ca3-8d4e-4aff-9f7c-b3f0c0812213",
   "metadata": {},
   "outputs": [
    {
     "data": {
      "text/html": [
       "<div>\n",
       "<style scoped>\n",
       "    .dataframe tbody tr th:only-of-type {\n",
       "        vertical-align: middle;\n",
       "    }\n",
       "\n",
       "    .dataframe tbody tr th {\n",
       "        vertical-align: top;\n",
       "    }\n",
       "\n",
       "    .dataframe thead th {\n",
       "        text-align: right;\n",
       "    }\n",
       "</style>\n",
       "<table border=\"1\" class=\"dataframe\">\n",
       "  <thead>\n",
       "    <tr style=\"text-align: right;\">\n",
       "      <th></th>\n",
       "      <th>DateTime</th>\n",
       "      <th>Time Zone</th>\n",
       "      <th>Sales Amount</th>\n",
       "      <th>Country</th>\n",
       "      <th>Sales Person</th>\n",
       "    </tr>\n",
       "  </thead>\n",
       "  <tbody>\n",
       "    <tr>\n",
       "      <th>0</th>\n",
       "      <td>2024-06-15 05:56:00</td>\n",
       "      <td>Australia/Sydney</td>\n",
       "      <td>9829.400738</td>\n",
       "      <td>Australia</td>\n",
       "      <td>David</td>\n",
       "    </tr>\n",
       "    <tr>\n",
       "      <th>1</th>\n",
       "      <td>2024-09-30 05:36:00</td>\n",
       "      <td>Europe/Berlin</td>\n",
       "      <td>23882.740000</td>\n",
       "      <td>Germany</td>\n",
       "      <td>Alice</td>\n",
       "    </tr>\n",
       "    <tr>\n",
       "      <th>2</th>\n",
       "      <td>2024-02-01 15:04:00</td>\n",
       "      <td>Australia/Sydney</td>\n",
       "      <td>9829.400738</td>\n",
       "      <td>Australia</td>\n",
       "      <td>Eve</td>\n",
       "    </tr>\n",
       "    <tr>\n",
       "      <th>3</th>\n",
       "      <td>2024-04-24 05:12:00</td>\n",
       "      <td>Australia/Sydney</td>\n",
       "      <td>20945.380000</td>\n",
       "      <td>Australia</td>\n",
       "      <td>Alice</td>\n",
       "    </tr>\n",
       "    <tr>\n",
       "      <th>4</th>\n",
       "      <td>2024-07-11 00:33:00</td>\n",
       "      <td>Europe/Berlin</td>\n",
       "      <td>9829.400738</td>\n",
       "      <td>Germany</td>\n",
       "      <td>David</td>\n",
       "    </tr>\n",
       "  </tbody>\n",
       "</table>\n",
       "</div>"
      ],
      "text/plain": [
       "             DateTime         Time Zone  Sales Amount    Country Sales Person\n",
       "0 2024-06-15 05:56:00  Australia/Sydney   9829.400738  Australia        David\n",
       "1 2024-09-30 05:36:00     Europe/Berlin  23882.740000    Germany        Alice\n",
       "2 2024-02-01 15:04:00  Australia/Sydney   9829.400738  Australia          Eve\n",
       "3 2024-04-24 05:12:00  Australia/Sydney  20945.380000  Australia        Alice\n",
       "4 2024-07-11 00:33:00     Europe/Berlin   9829.400738    Germany        David"
      ]
     },
     "execution_count": 280,
     "metadata": {},
     "output_type": "execute_result"
    }
   ],
   "source": [
    "df.head()"
   ]
  },
  {
   "cell_type": "code",
   "execution_count": 39,
   "id": "c8237a8d-156a-4746-990f-0eb62348e448",
   "metadata": {},
   "outputs": [
    {
     "data": {
      "text/html": [
       "<div>\n",
       "<style scoped>\n",
       "    .dataframe tbody tr th:only-of-type {\n",
       "        vertical-align: middle;\n",
       "    }\n",
       "\n",
       "    .dataframe tbody tr th {\n",
       "        vertical-align: top;\n",
       "    }\n",
       "\n",
       "    .dataframe thead th {\n",
       "        text-align: right;\n",
       "    }\n",
       "</style>\n",
       "<table border=\"1\" class=\"dataframe\">\n",
       "  <thead>\n",
       "    <tr style=\"text-align: right;\">\n",
       "      <th></th>\n",
       "      <th>DateTime</th>\n",
       "      <th>Time Zone</th>\n",
       "      <th>Sales Amount</th>\n",
       "      <th>Country</th>\n",
       "      <th>Sales Person</th>\n",
       "    </tr>\n",
       "  </thead>\n",
       "  <tbody>\n",
       "    <tr>\n",
       "      <th>0</th>\n",
       "      <td>2024-06-15 05:56:00</td>\n",
       "      <td>Australia/Sydney</td>\n",
       "      <td>9829.40</td>\n",
       "      <td>Australia</td>\n",
       "      <td>David</td>\n",
       "    </tr>\n",
       "    <tr>\n",
       "      <th>1</th>\n",
       "      <td>2024-09-30 05:36:00</td>\n",
       "      <td>Europe/Berlin</td>\n",
       "      <td>23882.74</td>\n",
       "      <td>Germany</td>\n",
       "      <td>Alice</td>\n",
       "    </tr>\n",
       "    <tr>\n",
       "      <th>2</th>\n",
       "      <td>2024-02-01 15:04:00</td>\n",
       "      <td>Australia/Sydney</td>\n",
       "      <td>9829.40</td>\n",
       "      <td>Australia</td>\n",
       "      <td>Eve</td>\n",
       "    </tr>\n",
       "    <tr>\n",
       "      <th>3</th>\n",
       "      <td>2024-04-24 05:12:00</td>\n",
       "      <td>Australia/Sydney</td>\n",
       "      <td>20945.38</td>\n",
       "      <td>Australia</td>\n",
       "      <td>Alice</td>\n",
       "    </tr>\n",
       "    <tr>\n",
       "      <th>4</th>\n",
       "      <td>2024-07-11 00:33:00</td>\n",
       "      <td>Europe/Berlin</td>\n",
       "      <td>9829.40</td>\n",
       "      <td>Germany</td>\n",
       "      <td>David</td>\n",
       "    </tr>\n",
       "  </tbody>\n",
       "</table>\n",
       "</div>"
      ],
      "text/plain": [
       "             DateTime         Time Zone  Sales Amount    Country Sales Person\n",
       "0 2024-06-15 05:56:00  Australia/Sydney       9829.40  Australia        David\n",
       "1 2024-09-30 05:36:00     Europe/Berlin      23882.74    Germany        Alice\n",
       "2 2024-02-01 15:04:00  Australia/Sydney       9829.40  Australia          Eve\n",
       "3 2024-04-24 05:12:00  Australia/Sydney      20945.38  Australia        Alice\n",
       "4 2024-07-11 00:33:00     Europe/Berlin       9829.40    Germany        David"
      ]
     },
     "execution_count": 39,
     "metadata": {},
     "output_type": "execute_result"
    }
   ],
   "source": [
    "# You will need to round the Sale Amount now to 2 decimal places \n",
    "\n",
    "# Your code here \n",
    "df = df.round({'Sales Amount': 2})\n",
    "df.head()"
   ]
  },
  {
   "cell_type": "code",
   "execution_count": 281,
   "id": "aeb75371-6280-4bd7-b3f3-f1996a9c8935",
   "metadata": {},
   "outputs": [
    {
     "data": {
      "text/html": [
       "<div>\n",
       "<style scoped>\n",
       "    .dataframe tbody tr th:only-of-type {\n",
       "        vertical-align: middle;\n",
       "    }\n",
       "\n",
       "    .dataframe tbody tr th {\n",
       "        vertical-align: top;\n",
       "    }\n",
       "\n",
       "    .dataframe thead th {\n",
       "        text-align: right;\n",
       "    }\n",
       "</style>\n",
       "<table border=\"1\" class=\"dataframe\">\n",
       "  <thead>\n",
       "    <tr style=\"text-align: right;\">\n",
       "      <th></th>\n",
       "      <th>DateTime</th>\n",
       "      <th>Time Zone</th>\n",
       "      <th>Sales Amount</th>\n",
       "      <th>Country</th>\n",
       "      <th>Sales Person</th>\n",
       "    </tr>\n",
       "  </thead>\n",
       "  <tbody>\n",
       "    <tr>\n",
       "      <th>0</th>\n",
       "      <td>2024-06-15 05:56:00</td>\n",
       "      <td>Australia/Sydney</td>\n",
       "      <td>9829.40</td>\n",
       "      <td>Australia</td>\n",
       "      <td>David</td>\n",
       "    </tr>\n",
       "    <tr>\n",
       "      <th>1</th>\n",
       "      <td>2024-09-30 05:36:00</td>\n",
       "      <td>Europe/Berlin</td>\n",
       "      <td>23882.74</td>\n",
       "      <td>Germany</td>\n",
       "      <td>Alice</td>\n",
       "    </tr>\n",
       "    <tr>\n",
       "      <th>2</th>\n",
       "      <td>2024-02-01 15:04:00</td>\n",
       "      <td>Australia/Sydney</td>\n",
       "      <td>9829.40</td>\n",
       "      <td>Australia</td>\n",
       "      <td>Eve</td>\n",
       "    </tr>\n",
       "    <tr>\n",
       "      <th>3</th>\n",
       "      <td>2024-04-24 05:12:00</td>\n",
       "      <td>Australia/Sydney</td>\n",
       "      <td>20945.38</td>\n",
       "      <td>Australia</td>\n",
       "      <td>Alice</td>\n",
       "    </tr>\n",
       "    <tr>\n",
       "      <th>4</th>\n",
       "      <td>2024-07-11 00:33:00</td>\n",
       "      <td>Europe/Berlin</td>\n",
       "      <td>9829.40</td>\n",
       "      <td>Germany</td>\n",
       "      <td>David</td>\n",
       "    </tr>\n",
       "  </tbody>\n",
       "</table>\n",
       "</div>"
      ],
      "text/plain": [
       "             DateTime         Time Zone  Sales Amount    Country Sales Person\n",
       "0 2024-06-15 05:56:00  Australia/Sydney       9829.40  Australia        David\n",
       "1 2024-09-30 05:36:00     Europe/Berlin      23882.74    Germany        Alice\n",
       "2 2024-02-01 15:04:00  Australia/Sydney       9829.40  Australia          Eve\n",
       "3 2024-04-24 05:12:00  Australia/Sydney      20945.38  Australia        Alice\n",
       "4 2024-07-11 00:33:00     Europe/Berlin       9829.40    Germany        David"
      ]
     },
     "execution_count": 281,
     "metadata": {},
     "output_type": "execute_result"
    }
   ],
   "source": [
    "\n",
    "df.head()"
   ]
  },
  {
   "cell_type": "code",
   "execution_count": 40,
   "id": "ccc0afcd-60b9-49eb-8d1c-50fe3aa27219",
   "metadata": {},
   "outputs": [
    {
     "name": "stdout",
     "output_type": "stream",
     "text": [
      "<class 'pandas.core.frame.DataFrame'>\n",
      "RangeIndex: 10000 entries, 0 to 9999\n",
      "Data columns (total 5 columns):\n",
      " #   Column        Non-Null Count  Dtype         \n",
      "---  ------        --------------  -----         \n",
      " 0   DateTime      10000 non-null  datetime64[ns]\n",
      " 1   Time Zone     10000 non-null  object        \n",
      " 2   Sales Amount  10000 non-null  float64       \n",
      " 3   Country       10000 non-null  object        \n",
      " 4   Sales Person  10000 non-null  object        \n",
      "dtypes: datetime64[ns](1), float64(1), object(3)\n",
      "memory usage: 390.8+ KB\n"
     ]
    }
   ],
   "source": [
    "df.info()"
   ]
  },
  {
   "cell_type": "code",
   "execution_count": 282,
   "id": "786e6b61-aa3c-4c50-9d7e-829fa98f5d47",
   "metadata": {},
   "outputs": [
    {
     "name": "stdout",
     "output_type": "stream",
     "text": [
      "<class 'pandas.core.frame.DataFrame'>\n",
      "RangeIndex: 10000 entries, 0 to 9999\n",
      "Data columns (total 5 columns):\n",
      " #   Column        Non-Null Count  Dtype         \n",
      "---  ------        --------------  -----         \n",
      " 0   DateTime      10000 non-null  datetime64[ns]\n",
      " 1   Time Zone     10000 non-null  object        \n",
      " 2   Sales Amount  10000 non-null  float64       \n",
      " 3   Country       10000 non-null  object        \n",
      " 4   Sales Person  10000 non-null  object        \n",
      "dtypes: datetime64[ns](1), float64(1), object(3)\n",
      "memory usage: 390.8+ KB\n"
     ]
    }
   ],
   "source": [
    "df.info()"
   ]
  },
  {
   "cell_type": "code",
   "execution_count": 41,
   "id": "c3aa3242-2c58-4c72-a011-7c53b6e513a1",
   "metadata": {},
   "outputs": [
    {
     "data": {
      "text/html": [
       "<div>\n",
       "<style scoped>\n",
       "    .dataframe tbody tr th:only-of-type {\n",
       "        vertical-align: middle;\n",
       "    }\n",
       "\n",
       "    .dataframe tbody tr th {\n",
       "        vertical-align: top;\n",
       "    }\n",
       "\n",
       "    .dataframe thead th {\n",
       "        text-align: right;\n",
       "    }\n",
       "</style>\n",
       "<table border=\"1\" class=\"dataframe\">\n",
       "  <thead>\n",
       "    <tr style=\"text-align: right;\">\n",
       "      <th></th>\n",
       "      <th>DateTime</th>\n",
       "      <th>Sales Amount</th>\n",
       "    </tr>\n",
       "  </thead>\n",
       "  <tbody>\n",
       "    <tr>\n",
       "      <th>count</th>\n",
       "      <td>10000</td>\n",
       "      <td>10000.000000</td>\n",
       "    </tr>\n",
       "    <tr>\n",
       "      <th>mean</th>\n",
       "      <td>2024-07-01 02:47:21.606000128</td>\n",
       "      <td>9829.400240</td>\n",
       "    </tr>\n",
       "    <tr>\n",
       "      <th>min</th>\n",
       "      <td>2024-01-01 00:01:00</td>\n",
       "      <td>10.380000</td>\n",
       "    </tr>\n",
       "    <tr>\n",
       "      <th>25%</th>\n",
       "      <td>2024-03-31 14:52:45</td>\n",
       "      <td>9829.400000</td>\n",
       "    </tr>\n",
       "    <tr>\n",
       "      <th>50%</th>\n",
       "      <td>2024-06-30 13:37:00</td>\n",
       "      <td>9829.400000</td>\n",
       "    </tr>\n",
       "    <tr>\n",
       "      <th>75%</th>\n",
       "      <td>2024-09-30 05:46:45</td>\n",
       "      <td>9829.400000</td>\n",
       "    </tr>\n",
       "    <tr>\n",
       "      <th>max</th>\n",
       "      <td>2024-12-30 21:37:00</td>\n",
       "      <td>36959.150000</td>\n",
       "    </tr>\n",
       "    <tr>\n",
       "      <th>std</th>\n",
       "      <td>NaN</td>\n",
       "      <td>7001.282356</td>\n",
       "    </tr>\n",
       "  </tbody>\n",
       "</table>\n",
       "</div>"
      ],
      "text/plain": [
       "                            DateTime  Sales Amount\n",
       "count                          10000  10000.000000\n",
       "mean   2024-07-01 02:47:21.606000128   9829.400240\n",
       "min              2024-01-01 00:01:00     10.380000\n",
       "25%              2024-03-31 14:52:45   9829.400000\n",
       "50%              2024-06-30 13:37:00   9829.400000\n",
       "75%              2024-09-30 05:46:45   9829.400000\n",
       "max              2024-12-30 21:37:00  36959.150000\n",
       "std                              NaN   7001.282356"
      ]
     },
     "execution_count": 41,
     "metadata": {},
     "output_type": "execute_result"
    }
   ],
   "source": [
    "df.describe()"
   ]
  },
  {
   "cell_type": "code",
   "execution_count": 42,
   "id": "d5ca4b34-7584-41c4-95f8-500922399419",
   "metadata": {},
   "outputs": [
    {
     "data": {
      "text/html": [
       "<div>\n",
       "<style scoped>\n",
       "    .dataframe tbody tr th:only-of-type {\n",
       "        vertical-align: middle;\n",
       "    }\n",
       "\n",
       "    .dataframe tbody tr th {\n",
       "        vertical-align: top;\n",
       "    }\n",
       "\n",
       "    .dataframe thead th {\n",
       "        text-align: right;\n",
       "    }\n",
       "</style>\n",
       "<table border=\"1\" class=\"dataframe\">\n",
       "  <thead>\n",
       "    <tr style=\"text-align: right;\">\n",
       "      <th></th>\n",
       "      <th>DateTime</th>\n",
       "      <th>Sales Amount</th>\n",
       "    </tr>\n",
       "  </thead>\n",
       "  <tbody>\n",
       "    <tr>\n",
       "      <th>count</th>\n",
       "      <td>10000</td>\n",
       "      <td>10000.000000</td>\n",
       "    </tr>\n",
       "    <tr>\n",
       "      <th>mean</th>\n",
       "      <td>2024-07-01 02:47:21.606000128</td>\n",
       "      <td>9829.400240</td>\n",
       "    </tr>\n",
       "    <tr>\n",
       "      <th>min</th>\n",
       "      <td>2024-01-01 00:01:00</td>\n",
       "      <td>10.380000</td>\n",
       "    </tr>\n",
       "    <tr>\n",
       "      <th>25%</th>\n",
       "      <td>2024-03-31 14:52:45</td>\n",
       "      <td>9829.400000</td>\n",
       "    </tr>\n",
       "    <tr>\n",
       "      <th>50%</th>\n",
       "      <td>2024-06-30 13:37:00</td>\n",
       "      <td>9829.400000</td>\n",
       "    </tr>\n",
       "    <tr>\n",
       "      <th>75%</th>\n",
       "      <td>2024-09-30 05:46:45</td>\n",
       "      <td>9829.400000</td>\n",
       "    </tr>\n",
       "    <tr>\n",
       "      <th>max</th>\n",
       "      <td>2024-12-30 21:37:00</td>\n",
       "      <td>36959.150000</td>\n",
       "    </tr>\n",
       "    <tr>\n",
       "      <th>std</th>\n",
       "      <td>NaN</td>\n",
       "      <td>7001.282356</td>\n",
       "    </tr>\n",
       "  </tbody>\n",
       "</table>\n",
       "</div>"
      ],
      "text/plain": [
       "                            DateTime  Sales Amount\n",
       "count                          10000  10000.000000\n",
       "mean   2024-07-01 02:47:21.606000128   9829.400240\n",
       "min              2024-01-01 00:01:00     10.380000\n",
       "25%              2024-03-31 14:52:45   9829.400000\n",
       "50%              2024-06-30 13:37:00   9829.400000\n",
       "75%              2024-09-30 05:46:45   9829.400000\n",
       "max              2024-12-30 21:37:00  36959.150000\n",
       "std                              NaN   7001.282356"
      ]
     },
     "execution_count": 42,
     "metadata": {},
     "output_type": "execute_result"
    }
   ],
   "source": [
    "df.describe()"
   ]
  },
  {
   "cell_type": "code",
   "execution_count": null,
   "id": "c4d72959-03a5-4abe-bf38-7d3572ae52e9",
   "metadata": {},
   "outputs": [],
   "source": []
  },
  {
   "cell_type": "code",
   "execution_count": 43,
   "id": "52de1e91-3eb2-4d34-bb65-d879fb5dc503",
   "metadata": {},
   "outputs": [
    {
     "data": {
      "text/plain": [
       "array(['Australia/Sydney', 'Europe/Berlin', 'Asia/Tokyo', 'UTC',\n",
       "       'US/Eastern'], dtype=object)"
      ]
     },
     "execution_count": 43,
     "metadata": {},
     "output_type": "execute_result"
    }
   ],
   "source": [
    "df['Time Zone'].unique()"
   ]
  },
  {
   "cell_type": "code",
   "execution_count": 284,
   "id": "c3dca6b2-2816-4456-8316-c0b495adf7c1",
   "metadata": {},
   "outputs": [
    {
     "data": {
      "text/plain": [
       "array(['Australia/Sydney', 'Europe/Berlin', 'Asia/Tokyo', 'UTC',\n",
       "       'US/Eastern'], dtype=object)"
      ]
     },
     "execution_count": 284,
     "metadata": {},
     "output_type": "execute_result"
    }
   ],
   "source": [
    "df['Time Zone'].unique()"
   ]
  },
  {
   "cell_type": "code",
   "execution_count": 44,
   "id": "cea9f1d5-a9c0-4b03-93e2-ea16e5ec0c7c",
   "metadata": {},
   "outputs": [
    {
     "data": {
      "text/html": [
       "<div>\n",
       "<style scoped>\n",
       "    .dataframe tbody tr th:only-of-type {\n",
       "        vertical-align: middle;\n",
       "    }\n",
       "\n",
       "    .dataframe tbody tr th {\n",
       "        vertical-align: top;\n",
       "    }\n",
       "\n",
       "    .dataframe thead th {\n",
       "        text-align: right;\n",
       "    }\n",
       "</style>\n",
       "<table border=\"1\" class=\"dataframe\">\n",
       "  <thead>\n",
       "    <tr style=\"text-align: right;\">\n",
       "      <th></th>\n",
       "      <th>DateTime</th>\n",
       "      <th>Time Zone</th>\n",
       "      <th>Sales Amount</th>\n",
       "      <th>Country</th>\n",
       "      <th>Sales Person</th>\n",
       "    </tr>\n",
       "  </thead>\n",
       "  <tbody>\n",
       "    <tr>\n",
       "      <th>0</th>\n",
       "      <td>2024-06-15 05:56:00</td>\n",
       "      <td>Australia/Sydney</td>\n",
       "      <td>9829.40</td>\n",
       "      <td>Australia</td>\n",
       "      <td>David</td>\n",
       "    </tr>\n",
       "    <tr>\n",
       "      <th>1</th>\n",
       "      <td>2024-09-30 05:36:00</td>\n",
       "      <td>Europe/Berlin</td>\n",
       "      <td>23882.74</td>\n",
       "      <td>Germany</td>\n",
       "      <td>Alice</td>\n",
       "    </tr>\n",
       "    <tr>\n",
       "      <th>2</th>\n",
       "      <td>2024-02-01 15:04:00</td>\n",
       "      <td>Australia/Sydney</td>\n",
       "      <td>9829.40</td>\n",
       "      <td>Australia</td>\n",
       "      <td>Eve</td>\n",
       "    </tr>\n",
       "    <tr>\n",
       "      <th>3</th>\n",
       "      <td>2024-04-24 05:12:00</td>\n",
       "      <td>Australia/Sydney</td>\n",
       "      <td>20945.38</td>\n",
       "      <td>Australia</td>\n",
       "      <td>Alice</td>\n",
       "    </tr>\n",
       "    <tr>\n",
       "      <th>4</th>\n",
       "      <td>2024-07-11 00:33:00</td>\n",
       "      <td>Europe/Berlin</td>\n",
       "      <td>9829.40</td>\n",
       "      <td>Germany</td>\n",
       "      <td>David</td>\n",
       "    </tr>\n",
       "    <tr>\n",
       "      <th>...</th>\n",
       "      <td>...</td>\n",
       "      <td>...</td>\n",
       "      <td>...</td>\n",
       "      <td>...</td>\n",
       "      <td>...</td>\n",
       "    </tr>\n",
       "    <tr>\n",
       "      <th>9995</th>\n",
       "      <td>2024-11-18 14:35:00</td>\n",
       "      <td>Europe/Berlin</td>\n",
       "      <td>9829.40</td>\n",
       "      <td>Germany</td>\n",
       "      <td>Bob</td>\n",
       "    </tr>\n",
       "    <tr>\n",
       "      <th>9996</th>\n",
       "      <td>2024-05-04 10:13:00</td>\n",
       "      <td>Asia/Tokyo</td>\n",
       "      <td>287.35</td>\n",
       "      <td>Japan</td>\n",
       "      <td>Bob</td>\n",
       "    </tr>\n",
       "    <tr>\n",
       "      <th>9997</th>\n",
       "      <td>2024-03-07 03:51:00</td>\n",
       "      <td>Australia/Sydney</td>\n",
       "      <td>9829.40</td>\n",
       "      <td>Australia</td>\n",
       "      <td>Bob</td>\n",
       "    </tr>\n",
       "    <tr>\n",
       "      <th>9998</th>\n",
       "      <td>2024-10-26 04:30:00</td>\n",
       "      <td>Australia/Sydney</td>\n",
       "      <td>175.50</td>\n",
       "      <td>Australia</td>\n",
       "      <td>Eve</td>\n",
       "    </tr>\n",
       "    <tr>\n",
       "      <th>9999</th>\n",
       "      <td>2024-08-19 05:29:00</td>\n",
       "      <td>Asia/Tokyo</td>\n",
       "      <td>9829.40</td>\n",
       "      <td>Japan</td>\n",
       "      <td>David</td>\n",
       "    </tr>\n",
       "  </tbody>\n",
       "</table>\n",
       "<p>10000 rows × 5 columns</p>\n",
       "</div>"
      ],
      "text/plain": [
       "                DateTime         Time Zone  Sales Amount    Country  \\\n",
       "0    2024-06-15 05:56:00  Australia/Sydney       9829.40  Australia   \n",
       "1    2024-09-30 05:36:00     Europe/Berlin      23882.74    Germany   \n",
       "2    2024-02-01 15:04:00  Australia/Sydney       9829.40  Australia   \n",
       "3    2024-04-24 05:12:00  Australia/Sydney      20945.38  Australia   \n",
       "4    2024-07-11 00:33:00     Europe/Berlin       9829.40    Germany   \n",
       "...                  ...               ...           ...        ...   \n",
       "9995 2024-11-18 14:35:00     Europe/Berlin       9829.40    Germany   \n",
       "9996 2024-05-04 10:13:00        Asia/Tokyo        287.35      Japan   \n",
       "9997 2024-03-07 03:51:00  Australia/Sydney       9829.40  Australia   \n",
       "9998 2024-10-26 04:30:00  Australia/Sydney        175.50  Australia   \n",
       "9999 2024-08-19 05:29:00        Asia/Tokyo       9829.40      Japan   \n",
       "\n",
       "     Sales Person  \n",
       "0           David  \n",
       "1           Alice  \n",
       "2             Eve  \n",
       "3           Alice  \n",
       "4           David  \n",
       "...           ...  \n",
       "9995          Bob  \n",
       "9996          Bob  \n",
       "9997          Bob  \n",
       "9998          Eve  \n",
       "9999        David  \n",
       "\n",
       "[10000 rows x 5 columns]"
      ]
     },
     "execution_count": 44,
     "metadata": {},
     "output_type": "execute_result"
    }
   ],
   "source": [
    "df"
   ]
  },
  {
   "cell_type": "code",
   "execution_count": 46,
   "id": "b47a3580-1b3d-417b-a942-df79f7bcafe5",
   "metadata": {},
   "outputs": [
    {
     "data": {
      "text/html": [
       "<div>\n",
       "<style scoped>\n",
       "    .dataframe tbody tr th:only-of-type {\n",
       "        vertical-align: middle;\n",
       "    }\n",
       "\n",
       "    .dataframe tbody tr th {\n",
       "        vertical-align: top;\n",
       "    }\n",
       "\n",
       "    .dataframe thead th {\n",
       "        text-align: right;\n",
       "    }\n",
       "</style>\n",
       "<table border=\"1\" class=\"dataframe\">\n",
       "  <thead>\n",
       "    <tr style=\"text-align: right;\">\n",
       "      <th></th>\n",
       "      <th>DateTime</th>\n",
       "      <th>Time Zone</th>\n",
       "      <th>Sales Amount</th>\n",
       "      <th>Country</th>\n",
       "      <th>Sales Person</th>\n",
       "    </tr>\n",
       "  </thead>\n",
       "  <tbody>\n",
       "    <tr>\n",
       "      <th>0</th>\n",
       "      <td>2024-06-15 05:56:00</td>\n",
       "      <td>Australia/Sydney</td>\n",
       "      <td>9829.40</td>\n",
       "      <td>Australia</td>\n",
       "      <td>David</td>\n",
       "    </tr>\n",
       "    <tr>\n",
       "      <th>1</th>\n",
       "      <td>2024-09-30 05:36:00</td>\n",
       "      <td>Europe/Berlin</td>\n",
       "      <td>23882.74</td>\n",
       "      <td>Germany</td>\n",
       "      <td>Alice</td>\n",
       "    </tr>\n",
       "    <tr>\n",
       "      <th>2</th>\n",
       "      <td>2024-02-01 15:04:00</td>\n",
       "      <td>Australia/Sydney</td>\n",
       "      <td>9829.40</td>\n",
       "      <td>Australia</td>\n",
       "      <td>Eve</td>\n",
       "    </tr>\n",
       "    <tr>\n",
       "      <th>3</th>\n",
       "      <td>2024-04-24 05:12:00</td>\n",
       "      <td>Australia/Sydney</td>\n",
       "      <td>20945.38</td>\n",
       "      <td>Australia</td>\n",
       "      <td>Alice</td>\n",
       "    </tr>\n",
       "    <tr>\n",
       "      <th>4</th>\n",
       "      <td>2024-07-11 00:33:00</td>\n",
       "      <td>Europe/Berlin</td>\n",
       "      <td>9829.40</td>\n",
       "      <td>Germany</td>\n",
       "      <td>David</td>\n",
       "    </tr>\n",
       "    <tr>\n",
       "      <th>...</th>\n",
       "      <td>...</td>\n",
       "      <td>...</td>\n",
       "      <td>...</td>\n",
       "      <td>...</td>\n",
       "      <td>...</td>\n",
       "    </tr>\n",
       "    <tr>\n",
       "      <th>9995</th>\n",
       "      <td>2024-11-18 14:35:00</td>\n",
       "      <td>Europe/Berlin</td>\n",
       "      <td>9829.40</td>\n",
       "      <td>Germany</td>\n",
       "      <td>Bob</td>\n",
       "    </tr>\n",
       "    <tr>\n",
       "      <th>9996</th>\n",
       "      <td>2024-05-04 10:13:00</td>\n",
       "      <td>Asia/Tokyo</td>\n",
       "      <td>287.35</td>\n",
       "      <td>Japan</td>\n",
       "      <td>Bob</td>\n",
       "    </tr>\n",
       "    <tr>\n",
       "      <th>9997</th>\n",
       "      <td>2024-03-07 03:51:00</td>\n",
       "      <td>Australia/Sydney</td>\n",
       "      <td>9829.40</td>\n",
       "      <td>Australia</td>\n",
       "      <td>Bob</td>\n",
       "    </tr>\n",
       "    <tr>\n",
       "      <th>9998</th>\n",
       "      <td>2024-10-26 04:30:00</td>\n",
       "      <td>Australia/Sydney</td>\n",
       "      <td>175.50</td>\n",
       "      <td>Australia</td>\n",
       "      <td>Eve</td>\n",
       "    </tr>\n",
       "    <tr>\n",
       "      <th>9999</th>\n",
       "      <td>2024-08-19 05:29:00</td>\n",
       "      <td>Asia/Tokyo</td>\n",
       "      <td>9829.40</td>\n",
       "      <td>Japan</td>\n",
       "      <td>David</td>\n",
       "    </tr>\n",
       "  </tbody>\n",
       "</table>\n",
       "<p>9998 rows × 5 columns</p>\n",
       "</div>"
      ],
      "text/plain": [
       "                DateTime         Time Zone  Sales Amount    Country  \\\n",
       "0    2024-06-15 05:56:00  Australia/Sydney       9829.40  Australia   \n",
       "1    2024-09-30 05:36:00     Europe/Berlin      23882.74    Germany   \n",
       "2    2024-02-01 15:04:00  Australia/Sydney       9829.40  Australia   \n",
       "3    2024-04-24 05:12:00  Australia/Sydney      20945.38  Australia   \n",
       "4    2024-07-11 00:33:00     Europe/Berlin       9829.40    Germany   \n",
       "...                  ...               ...           ...        ...   \n",
       "9995 2024-11-18 14:35:00     Europe/Berlin       9829.40    Germany   \n",
       "9996 2024-05-04 10:13:00        Asia/Tokyo        287.35      Japan   \n",
       "9997 2024-03-07 03:51:00  Australia/Sydney       9829.40  Australia   \n",
       "9998 2024-10-26 04:30:00  Australia/Sydney        175.50  Australia   \n",
       "9999 2024-08-19 05:29:00        Asia/Tokyo       9829.40      Japan   \n",
       "\n",
       "     Sales Person  \n",
       "0           David  \n",
       "1           Alice  \n",
       "2             Eve  \n",
       "3           Alice  \n",
       "4           David  \n",
       "...           ...  \n",
       "9995          Bob  \n",
       "9996          Bob  \n",
       "9997          Bob  \n",
       "9998          Eve  \n",
       "9999        David  \n",
       "\n",
       "[9998 rows x 5 columns]"
      ]
     },
     "execution_count": 46,
     "metadata": {},
     "output_type": "execute_result"
    }
   ],
   "source": [
    "# you will need to drop two rows have will cause an issue. They have been identified as index 9723 and index 9373\n",
    "\n",
    "df = df.drop([9723, 9373])\n",
    "df"
   ]
  },
  {
   "cell_type": "code",
   "execution_count": 48,
   "id": "d53082f4-3c8b-409e-813d-18899ca505ab",
   "metadata": {},
   "outputs": [],
   "source": [
    "# Localize each DateTime with the corresponding Time Zone.\n",
    "# Hint, you can use df.apply and Lambda function\n",
    "# t.tz_localize('UTC').tz_convert('US/Pacific')\n",
    "\n",
    "df['DateTime_Localized'] = df.apply(lambda row: row['DateTime'].tz_localize(row['Time Zone']).tz_convert(row['Time Zone']), axis=1)\n"
   ]
  },
  {
   "cell_type": "markdown",
   "id": "5a5b19b0-7d9e-427e-8aeb-4df4a3e2ee94",
   "metadata": {},
   "source": [
    "### Testing/Validation"
   ]
  },
  {
   "cell_type": "code",
   "execution_count": 49,
   "id": "45577d59-417a-4586-8010-a27b65ea3459",
   "metadata": {},
   "outputs": [
    {
     "data": {
      "text/plain": [
       "Timestamp('2024-06-15 05:56:00')"
      ]
     },
     "execution_count": 49,
     "metadata": {},
     "output_type": "execute_result"
    }
   ],
   "source": [
    "df['DateTime'][0]"
   ]
  },
  {
   "cell_type": "code",
   "execution_count": 288,
   "id": "61715692-8103-445a-9805-f31be793064a",
   "metadata": {},
   "outputs": [
    {
     "data": {
      "text/plain": [
       "Timestamp('2024-06-15 05:56:00')"
      ]
     },
     "execution_count": 288,
     "metadata": {},
     "output_type": "execute_result"
    }
   ],
   "source": [
    "df['DateTime'][0]"
   ]
  },
  {
   "cell_type": "code",
   "execution_count": 50,
   "id": "07650502-20af-4561-bb25-57afd664d2bb",
   "metadata": {},
   "outputs": [
    {
     "data": {
      "text/plain": [
       "Timestamp('2024-06-15 05:56:00+1000', tz='Australia/Sydney')"
      ]
     },
     "execution_count": 50,
     "metadata": {},
     "output_type": "execute_result"
    }
   ],
   "source": [
    "df['DateTime_Localized'][0]"
   ]
  },
  {
   "cell_type": "code",
   "execution_count": 289,
   "id": "13bfe87a-cad3-4526-a25d-6af3e3e1e7c5",
   "metadata": {},
   "outputs": [
    {
     "data": {
      "text/plain": [
       "Timestamp('2024-06-15 05:56:00+1000', tz='Australia/Sydney')"
      ]
     },
     "execution_count": 289,
     "metadata": {},
     "output_type": "execute_result"
    }
   ],
   "source": [
    "df['DateTime_Localized'][0]"
   ]
  },
  {
   "cell_type": "code",
   "execution_count": 51,
   "id": "b8974a73-2137-4529-a631-931093a62296",
   "metadata": {},
   "outputs": [
    {
     "data": {
      "text/plain": [
       "Timestamp('2024-09-30 05:36:00')"
      ]
     },
     "execution_count": 51,
     "metadata": {},
     "output_type": "execute_result"
    }
   ],
   "source": [
    "df['DateTime'][1]"
   ]
  },
  {
   "cell_type": "code",
   "execution_count": 290,
   "id": "2b187a78-afc3-4985-8be1-5d9c635b5724",
   "metadata": {},
   "outputs": [
    {
     "data": {
      "text/plain": [
       "Timestamp('2024-09-30 05:36:00')"
      ]
     },
     "execution_count": 290,
     "metadata": {},
     "output_type": "execute_result"
    }
   ],
   "source": [
    "df['DateTime'][1]"
   ]
  },
  {
   "cell_type": "code",
   "execution_count": 52,
   "id": "b1db9838-367d-4d2d-9b25-4a05531c38ac",
   "metadata": {},
   "outputs": [
    {
     "data": {
      "text/plain": [
       "Timestamp('2024-09-30 05:36:00+0200', tz='Europe/Berlin')"
      ]
     },
     "execution_count": 52,
     "metadata": {},
     "output_type": "execute_result"
    }
   ],
   "source": [
    "df['DateTime_Localized'][1]"
   ]
  },
  {
   "cell_type": "code",
   "execution_count": 291,
   "id": "30023a9e-93db-44ce-8950-ceedaed9f194",
   "metadata": {},
   "outputs": [
    {
     "data": {
      "text/plain": [
       "Timestamp('2024-09-30 05:36:00+0200', tz='Europe/Berlin')"
      ]
     },
     "execution_count": 291,
     "metadata": {},
     "output_type": "execute_result"
    }
   ],
   "source": [
    "df['DateTime_Localized'][1]"
   ]
  },
  {
   "cell_type": "code",
   "execution_count": 55,
   "id": "35b7f50a-fd0c-4462-8916-1e0ee3895283",
   "metadata": {},
   "outputs": [],
   "source": [
    "# Now, that you have localized, convert each DateTime_Localized to UTC Format\n",
    "# Hint, think about using df.apply and a lambda function\n",
    "df['DateTime_UTC'] = df.apply(lambda row: row['DateTime_Localized'].tz_convert('UTC'), axis=1)\n",
    " \n"
   ]
  },
  {
   "cell_type": "markdown",
   "id": "73287393-54fe-4b19-8b0c-d40171fa6e29",
   "metadata": {},
   "source": [
    "### Testing/ Validation"
   ]
  },
  {
   "cell_type": "code",
   "execution_count": 56,
   "id": "2cfab520-d50d-4dce-b1c4-c8f34dc32840",
   "metadata": {},
   "outputs": [
    {
     "data": {
      "text/plain": [
       "Timestamp('2024-06-15 05:56:00+1000', tz='Australia/Sydney')"
      ]
     },
     "execution_count": 56,
     "metadata": {},
     "output_type": "execute_result"
    }
   ],
   "source": [
    "df['DateTime_Localized'][0]"
   ]
  },
  {
   "cell_type": "code",
   "execution_count": 293,
   "id": "cdae839b-afa2-4d88-bdf3-2cc84638bc9c",
   "metadata": {},
   "outputs": [
    {
     "data": {
      "text/plain": [
       "Timestamp('2024-06-15 05:56:00+1000', tz='Australia/Sydney')"
      ]
     },
     "execution_count": 293,
     "metadata": {},
     "output_type": "execute_result"
    }
   ],
   "source": [
    "df['DateTime_Localized'][0]"
   ]
  },
  {
   "cell_type": "code",
   "execution_count": 57,
   "id": "34d01e5f-eadd-412c-8d56-f3cd570f9f6a",
   "metadata": {},
   "outputs": [
    {
     "data": {
      "text/plain": [
       "Timestamp('2024-06-14 19:56:00+0000', tz='UTC')"
      ]
     },
     "execution_count": 57,
     "metadata": {},
     "output_type": "execute_result"
    }
   ],
   "source": [
    "df['DateTime_UTC'][0]"
   ]
  },
  {
   "cell_type": "code",
   "execution_count": 294,
   "id": "a15a43ed-a435-4c75-b4b0-1e38d1a1480c",
   "metadata": {},
   "outputs": [
    {
     "data": {
      "text/plain": [
       "Timestamp('2024-06-14 19:56:00+0000', tz='UTC')"
      ]
     },
     "execution_count": 294,
     "metadata": {},
     "output_type": "execute_result"
    }
   ],
   "source": [
    "df['DateTime_UTC'][0]"
   ]
  },
  {
   "cell_type": "code",
   "execution_count": 58,
   "id": "e1b1ea42-5e2c-4eee-87ca-3f54b56fcb66",
   "metadata": {},
   "outputs": [
    {
     "data": {
      "text/plain": [
       "Timestamp('2024-09-30 05:36:00+0200', tz='Europe/Berlin')"
      ]
     },
     "execution_count": 58,
     "metadata": {},
     "output_type": "execute_result"
    }
   ],
   "source": [
    "df['DateTime_Localized'][1]"
   ]
  },
  {
   "cell_type": "code",
   "execution_count": 295,
   "id": "c376ac90-f209-4c39-bec6-09902b7a1c65",
   "metadata": {},
   "outputs": [
    {
     "data": {
      "text/plain": [
       "Timestamp('2024-09-30 05:36:00+0200', tz='Europe/Berlin')"
      ]
     },
     "execution_count": 295,
     "metadata": {},
     "output_type": "execute_result"
    }
   ],
   "source": [
    "df['DateTime_Localized'][1]"
   ]
  },
  {
   "cell_type": "code",
   "execution_count": 59,
   "id": "e36192d7-7a6a-472c-92cc-c0e8aba7026b",
   "metadata": {},
   "outputs": [
    {
     "data": {
      "text/plain": [
       "Timestamp('2024-09-30 03:36:00+0000', tz='UTC')"
      ]
     },
     "execution_count": 59,
     "metadata": {},
     "output_type": "execute_result"
    }
   ],
   "source": [
    "df['DateTime_UTC'][1]"
   ]
  },
  {
   "cell_type": "code",
   "execution_count": 296,
   "id": "e36bd8d0-d328-469f-87cf-bdaba643b11c",
   "metadata": {},
   "outputs": [
    {
     "data": {
      "text/plain": [
       "Timestamp('2024-09-30 03:36:00+0000', tz='UTC')"
      ]
     },
     "execution_count": 296,
     "metadata": {},
     "output_type": "execute_result"
    }
   ],
   "source": [
    "df['DateTime_UTC'][1]"
   ]
  },
  {
   "cell_type": "code",
   "execution_count": 60,
   "id": "6b179bbf-62d2-4201-b418-71cf7f053dd3",
   "metadata": {},
   "outputs": [
    {
     "name": "stdout",
     "output_type": "stream",
     "text": [
      "<class 'pandas.core.frame.DataFrame'>\n",
      "Index: 9998 entries, 0 to 9999\n",
      "Data columns (total 7 columns):\n",
      " #   Column              Non-Null Count  Dtype              \n",
      "---  ------              --------------  -----              \n",
      " 0   DateTime            9998 non-null   datetime64[ns]     \n",
      " 1   Time Zone           9998 non-null   object             \n",
      " 2   Sales Amount        9998 non-null   float64            \n",
      " 3   Country             9998 non-null   object             \n",
      " 4   Sales Person        9998 non-null   object             \n",
      " 5   DateTime_Localized  9998 non-null   object             \n",
      " 6   DateTime_UTC        9998 non-null   datetime64[ns, UTC]\n",
      "dtypes: datetime64[ns, UTC](1), datetime64[ns](1), float64(1), object(4)\n",
      "memory usage: 882.9+ KB\n"
     ]
    }
   ],
   "source": [
    "df.info()"
   ]
  },
  {
   "cell_type": "code",
   "execution_count": 297,
   "id": "5ede072d-3039-43d5-b0b6-ba7c67474f1d",
   "metadata": {},
   "outputs": [
    {
     "name": "stdout",
     "output_type": "stream",
     "text": [
      "<class 'pandas.core.frame.DataFrame'>\n",
      "Index: 9998 entries, 0 to 9999\n",
      "Data columns (total 7 columns):\n",
      " #   Column              Non-Null Count  Dtype              \n",
      "---  ------              --------------  -----              \n",
      " 0   DateTime            9998 non-null   datetime64[ns]     \n",
      " 1   Time Zone           9998 non-null   object             \n",
      " 2   Sales Amount        9998 non-null   float64            \n",
      " 3   Country             9998 non-null   object             \n",
      " 4   Sales Person        9998 non-null   object             \n",
      " 5   DateTime_Localized  9998 non-null   object             \n",
      " 6   DateTime_UTC        9998 non-null   datetime64[ns, UTC]\n",
      "dtypes: datetime64[ns, UTC](1), datetime64[ns](1), float64(1), object(4)\n",
      "memory usage: 882.9+ KB\n"
     ]
    }
   ],
   "source": [
    "df.info()"
   ]
  },
  {
   "cell_type": "code",
   "execution_count": null,
   "id": "91e3e5cc-faca-4cbb-8a49-992149a1bdbd",
   "metadata": {},
   "outputs": [],
   "source": []
  },
  {
   "cell_type": "markdown",
   "id": "b5c58f39-fa4c-4090-93d3-a8f730663b8a",
   "metadata": {},
   "source": [
    "### Analysis / Validation"
   ]
  },
  {
   "cell_type": "code",
   "execution_count": 62,
   "id": "69a6cec6-4289-46f9-bf79-f7b4e1387989",
   "metadata": {},
   "outputs": [
    {
     "data": {
      "text/plain": [
       "Country\n",
       "Australia         18548078.80\n",
       "Germany           19862156.50\n",
       "Japan             19638421.38\n",
       "United Kingdom    19945753.23\n",
       "United States     20289638.47\n",
       "Name: Sales Amount, dtype: float64"
      ]
     },
     "execution_count": 62,
     "metadata": {},
     "output_type": "execute_result"
    }
   ],
   "source": [
    "SalesByCountry = df.groupby('Country')['Sales Amount'].sum()\n",
    "SalesByCountry"
   ]
  },
  {
   "cell_type": "code",
   "execution_count": 302,
   "id": "effbc8ef-cd20-4dbf-b0d0-8fc306535ae9",
   "metadata": {},
   "outputs": [
    {
     "data": {
      "text/plain": [
       "Country\n",
       "Australia         18548078.80\n",
       "Germany           19862156.50\n",
       "Japan             19638421.38\n",
       "United Kingdom    19945753.23\n",
       "United States     20289638.47\n",
       "Name: Sales Amount, dtype: float64"
      ]
     },
     "execution_count": 302,
     "metadata": {},
     "output_type": "execute_result"
    }
   ],
   "source": [
    "SalesByCountry = df.groupby('Country')['Sales Amount'].sum()\n",
    "SalesByCountry"
   ]
  },
  {
   "cell_type": "code",
   "execution_count": 63,
   "id": "cc138273-21a3-49d6-9f04-37780070f894",
   "metadata": {},
   "outputs": [
    {
     "data": {
      "image/png": "[encoded data removed]",
      "text/plain": [
       "<Figure size 640x480 with 1 Axes>"
      ]
     },
     "metadata": {},
     "output_type": "display_data"
    }
   ],
   "source": [
    "SalesByCountry.plot(kind='bar');"
   ]
  },
  {
   "cell_type": "code",
   "execution_count": 303,
   "id": "c8593512-d85d-4192-aceb-50223118275d",
   "metadata": {},
   "outputs": [
    {
     "data": {
      "image/png": "[encoded data removed]",
      "text/plain": [
       "<Figure size 640x480 with 1 Axes>"
      ]
     },
     "metadata": {},
     "output_type": "display_data"
    }
   ],
   "source": [
    "SalesByCountry.plot(kind='bar');"
   ]
  },
  {
   "cell_type": "code",
   "execution_count": 65,
   "id": "3ffe80a2-7353-47a3-9d2c-538236703788",
   "metadata": {},
   "outputs": [
    {
     "data": {
      "text/plain": [
       "Sales Person\n",
       "Alice      20216678.02\n",
       "Bob        19432012.45\n",
       "Charlie    18415351.28\n",
       "David      20147755.70\n",
       "Eve        20072250.93\n",
       "Name: Sales Amount, dtype: float64"
      ]
     },
     "execution_count": 65,
     "metadata": {},
     "output_type": "execute_result"
    }
   ],
   "source": [
    "SalesBySP = df.groupby('Sales Person')['Sales Amount'].sum()\n",
    "SalesBySP"
   ]
  },
  {
   "cell_type": "code",
   "execution_count": 304,
   "id": "91686cca-5be3-469b-b6b1-e0082079c821",
   "metadata": {},
   "outputs": [
    {
     "data": {
      "text/plain": [
       "Sales Person\n",
       "Alice      20216678.02\n",
       "Bob        19432012.45\n",
       "Charlie    18415351.28\n",
       "David      20147755.70\n",
       "Eve        20072250.93\n",
       "Name: Sales Amount, dtype: float64"
      ]
     },
     "execution_count": 304,
     "metadata": {},
     "output_type": "execute_result"
    }
   ],
   "source": [
    "SalesBySP = df.groupby('Sales Person')['Sales Amount'].sum()\n",
    "SalesBySP"
   ]
  },
  {
   "cell_type": "code",
   "execution_count": 305,
   "id": "54cfb863-334e-46bb-ae61-57a4b721d664",
   "metadata": {},
   "outputs": [
    {
     "data": {
      "text/plain": [
       "<Axes: xlabel='Sales Person'>"
      ]
     },
     "execution_count": 305,
     "metadata": {},
     "output_type": "execute_result"
    },
    {
     "data": {
      "image/png": "[encoded data removed]",
      "text/plain": [
       "<Figure size 640x480 with 1 Axes>"
      ]
     },
     "metadata": {},
     "output_type": "display_data"
    }
   ],
   "source": [
    "SalesBySP.plot(kind='bar')"
   ]
  },
  {
   "cell_type": "markdown",
   "id": "bd3d1b56-ee09-4ace-b3ad-8f1b2515286e",
   "metadata": {},
   "source": [
    "## Load"
   ]
  },
  {
   "cell_type": "code",
   "execution_count": 66,
   "id": "aa1a2a87-d3d2-4577-8922-304ac2cfa89e",
   "metadata": {},
   "outputs": [
    {
     "ename": "PermissionError",
     "evalue": "The AWS Access Key Id you provided does not exist in our records.",
     "output_type": "error",
     "traceback": [
      "\u001b[0;31m---------------------------------------------------------------------------\u001b[0m",
      "\u001b[0;31mClientError\u001b[0m                               Traceback (most recent call last)",
      "File \u001b[0;32m~/miniconda3/envs/dev1/lib/python3.11/site-packages/s3fs/core.py:113\u001b[0m, in \u001b[0;36m_error_wrapper\u001b[0;34m(func, args, kwargs, retries)\u001b[0m\n\u001b[1;32m    112\u001b[0m \u001b[38;5;28;01mtry\u001b[39;00m:\n\u001b[0;32m--> 113\u001b[0m     \u001b[38;5;28;01mreturn\u001b[39;00m \u001b[38;5;28;01mawait\u001b[39;00m func(\u001b[38;5;241m*\u001b[39margs, \u001b[38;5;241m*\u001b[39m\u001b[38;5;241m*\u001b[39mkwargs)\n\u001b[1;32m    114\u001b[0m \u001b[38;5;28;01mexcept\u001b[39;00m S3_RETRYABLE_ERRORS \u001b[38;5;28;01mas\u001b[39;00m e:\n",
      "File \u001b[0;32m~/miniconda3/envs/dev1/lib/python3.11/site-packages/aiobotocore/client.py:411\u001b[0m, in \u001b[0;36mAioBaseClient._make_api_call\u001b[0;34m(self, operation_name, api_params)\u001b[0m\n\u001b[1;32m    410\u001b[0m     error_class \u001b[38;5;241m=\u001b[39m \u001b[38;5;28mself\u001b[39m\u001b[38;5;241m.\u001b[39mexceptions\u001b[38;5;241m.\u001b[39mfrom_code(error_code)\n\u001b[0;32m--> 411\u001b[0m     \u001b[38;5;28;01mraise\u001b[39;00m error_class(parsed_response, operation_name)\n\u001b[1;32m    412\u001b[0m \u001b[38;5;28;01melse\u001b[39;00m:\n",
      "\u001b[0;31mClientError\u001b[0m: An error occurred (InvalidAccessKeyId) when calling the CreateBucket operation: The AWS Access Key Id you provided does not exist in our records.",
      "\nThe above exception was the direct cause of the following exception:\n",
      "\u001b[0;31mPermissionError\u001b[0m                           Traceback (most recent call last)",
      "Cell \u001b[0;32mIn[66], line 9\u001b[0m\n\u001b[1;32m      1\u001b[0m \u001b[38;5;66;03m# Finally write the data to S3 \u001b[39;00m\n\u001b[1;32m      2\u001b[0m \u001b[38;5;66;03m# Parition by Country\u001b[39;00m\n\u001b[1;32m      3\u001b[0m \n\u001b[1;32m      4\u001b[0m \u001b[38;5;66;03m# Your code here\u001b[39;00m\n\u001b[1;32m      6\u001b[0m file \u001b[38;5;241m=\u001b[39m \u001b[38;5;124m'\u001b[39m\u001b[38;5;124ms3://techcatalyst-transformed/SalesTransformed/sriya/sales_data_transformed.parquet\u001b[39m\u001b[38;5;124m'\u001b[39m\n\u001b[0;32m----> 9\u001b[0m df\u001b[38;5;241m.\u001b[39mto_parquet(file, partition_cols\u001b[38;5;241m=\u001b[39m[\u001b[38;5;124m'\u001b[39m\u001b[38;5;124mCountry\u001b[39m\u001b[38;5;124m'\u001b[39m],\n\u001b[1;32m     10\u001b[0m               storage_options\u001b[38;5;241m=\u001b[39m{\n\u001b[1;32m     11\u001b[0m                    \u001b[38;5;124m'\u001b[39m\u001b[38;5;124mkey\u001b[39m\u001b[38;5;124m'\u001b[39m : AWS_ACCESS_KEY,\n\u001b[1;32m     12\u001b[0m                    \u001b[38;5;124m'\u001b[39m\u001b[38;5;124msecret\u001b[39m\u001b[38;5;124m'\u001b[39m : AWS_SECRET_KEY\n\u001b[1;32m     13\u001b[0m                }\n\u001b[1;32m     14\u001b[0m              )\n\u001b[1;32m     15\u001b[0m \u001b[38;5;28mprint\u001b[39m(\u001b[38;5;124m'\u001b[39m\u001b[38;5;124mdone\u001b[39m\u001b[38;5;124m'\u001b[39m)\n",
      "File \u001b[0;32m~/miniconda3/envs/dev1/lib/python3.11/site-packages/pandas/util/_decorators.py:333\u001b[0m, in \u001b[0;36mdeprecate_nonkeyword_arguments.<locals>.decorate.<locals>.wrapper\u001b[0;34m(*args, **kwargs)\u001b[0m\n\u001b[1;32m    327\u001b[0m \u001b[38;5;28;01mif\u001b[39;00m \u001b[38;5;28mlen\u001b[39m(args) \u001b[38;5;241m>\u001b[39m num_allow_args:\n\u001b[1;32m    328\u001b[0m     warnings\u001b[38;5;241m.\u001b[39mwarn(\n\u001b[1;32m    329\u001b[0m         msg\u001b[38;5;241m.\u001b[39mformat(arguments\u001b[38;5;241m=\u001b[39m_format_argument_list(allow_args)),\n\u001b[1;32m    330\u001b[0m         \u001b[38;5;167;01mFutureWarning\u001b[39;00m,\n\u001b[1;32m    331\u001b[0m         stacklevel\u001b[38;5;241m=\u001b[39mfind_stack_level(),\n\u001b[1;32m    332\u001b[0m     )\n\u001b[0;32m--> 333\u001b[0m \u001b[38;5;28;01mreturn\u001b[39;00m func(\u001b[38;5;241m*\u001b[39margs, \u001b[38;5;241m*\u001b[39m\u001b[38;5;241m*\u001b[39mkwargs)\n",
      "File \u001b[0;32m~/miniconda3/envs/dev1/lib/python3.11/site-packages/pandas/core/frame.py:3113\u001b[0m, in \u001b[0;36mDataFrame.to_parquet\u001b[0;34m(self, path, engine, compression, index, partition_cols, storage_options, **kwargs)\u001b[0m\n\u001b[1;32m   3032\u001b[0m \u001b[38;5;250m\u001b[39m\u001b[38;5;124;03m\"\"\"\u001b[39;00m\n\u001b[1;32m   3033\u001b[0m \u001b[38;5;124;03mWrite a DataFrame to the binary parquet format.\u001b[39;00m\n\u001b[1;32m   3034\u001b[0m \n\u001b[0;32m   (...)\u001b[0m\n\u001b[1;32m   3109\u001b[0m \u001b[38;5;124;03m>>> content = f.read()\u001b[39;00m\n\u001b[1;32m   3110\u001b[0m \u001b[38;5;124;03m\"\"\"\u001b[39;00m\n\u001b[1;32m   3111\u001b[0m \u001b[38;5;28;01mfrom\u001b[39;00m \u001b[38;5;21;01mpandas\u001b[39;00m\u001b[38;5;21;01m.\u001b[39;00m\u001b[38;5;21;01mio\u001b[39;00m\u001b[38;5;21;01m.\u001b[39;00m\u001b[38;5;21;01mparquet\u001b[39;00m \u001b[38;5;28;01mimport\u001b[39;00m to_parquet\n\u001b[0;32m-> 3113\u001b[0m \u001b[38;5;28;01mreturn\u001b[39;00m to_parquet(\n\u001b[1;32m   3114\u001b[0m     \u001b[38;5;28mself\u001b[39m,\n\u001b[1;32m   3115\u001b[0m     path,\n\u001b[1;32m   3116\u001b[0m     engine,\n\u001b[1;32m   3117\u001b[0m     compression\u001b[38;5;241m=\u001b[39mcompression,\n\u001b[1;32m   3118\u001b[0m     index\u001b[38;5;241m=\u001b[39mindex,\n\u001b[1;32m   3119\u001b[0m     partition_cols\u001b[38;5;241m=\u001b[39mpartition_cols,\n\u001b[1;32m   3120\u001b[0m     storage_options\u001b[38;5;241m=\u001b[39mstorage_options,\n\u001b[1;32m   3121\u001b[0m     \u001b[38;5;241m*\u001b[39m\u001b[38;5;241m*\u001b[39mkwargs,\n\u001b[1;32m   3122\u001b[0m )\n",
      "File \u001b[0;32m~/miniconda3/envs/dev1/lib/python3.11/site-packages/pandas/io/parquet.py:480\u001b[0m, in \u001b[0;36mto_parquet\u001b[0;34m(df, path, engine, compression, index, storage_options, partition_cols, filesystem, **kwargs)\u001b[0m\n\u001b[1;32m    476\u001b[0m impl \u001b[38;5;241m=\u001b[39m get_engine(engine)\n\u001b[1;32m    478\u001b[0m path_or_buf: FilePath \u001b[38;5;241m|\u001b[39m WriteBuffer[\u001b[38;5;28mbytes\u001b[39m] \u001b[38;5;241m=\u001b[39m io\u001b[38;5;241m.\u001b[39mBytesIO() \u001b[38;5;28;01mif\u001b[39;00m path \u001b[38;5;129;01mis\u001b[39;00m \u001b[38;5;28;01mNone\u001b[39;00m \u001b[38;5;28;01melse\u001b[39;00m path\n\u001b[0;32m--> 480\u001b[0m impl\u001b[38;5;241m.\u001b[39mwrite(\n\u001b[1;32m    481\u001b[0m     df,\n\u001b[1;32m    482\u001b[0m     path_or_buf,\n\u001b[1;32m    483\u001b[0m     compression\u001b[38;5;241m=\u001b[39mcompression,\n\u001b[1;32m    484\u001b[0m     index\u001b[38;5;241m=\u001b[39mindex,\n\u001b[1;32m    485\u001b[0m     partition_cols\u001b[38;5;241m=\u001b[39mpartition_cols,\n\u001b[1;32m    486\u001b[0m     storage_options\u001b[38;5;241m=\u001b[39mstorage_options,\n\u001b[1;32m    487\u001b[0m     filesystem\u001b[38;5;241m=\u001b[39mfilesystem,\n\u001b[1;32m    488\u001b[0m     \u001b[38;5;241m*\u001b[39m\u001b[38;5;241m*\u001b[39mkwargs,\n\u001b[1;32m    489\u001b[0m )\n\u001b[1;32m    491\u001b[0m \u001b[38;5;28;01mif\u001b[39;00m path \u001b[38;5;129;01mis\u001b[39;00m \u001b[38;5;28;01mNone\u001b[39;00m:\n\u001b[1;32m    492\u001b[0m     \u001b[38;5;28;01massert\u001b[39;00m \u001b[38;5;28misinstance\u001b[39m(path_or_buf, io\u001b[38;5;241m.\u001b[39mBytesIO)\n",
      "File \u001b[0;32m~/miniconda3/envs/dev1/lib/python3.11/site-packages/pandas/io/parquet.py:218\u001b[0m, in \u001b[0;36mPyArrowImpl.write\u001b[0;34m(self, df, path, compression, index, storage_options, partition_cols, filesystem, **kwargs)\u001b[0m\n\u001b[1;32m    215\u001b[0m \u001b[38;5;28;01mtry\u001b[39;00m:\n\u001b[1;32m    216\u001b[0m     \u001b[38;5;28;01mif\u001b[39;00m partition_cols \u001b[38;5;129;01mis\u001b[39;00m \u001b[38;5;129;01mnot\u001b[39;00m \u001b[38;5;28;01mNone\u001b[39;00m:\n\u001b[1;32m    217\u001b[0m         \u001b[38;5;66;03m# writes to multiple files under the given path\u001b[39;00m\n\u001b[0;32m--> 218\u001b[0m         \u001b[38;5;28mself\u001b[39m\u001b[38;5;241m.\u001b[39mapi\u001b[38;5;241m.\u001b[39mparquet\u001b[38;5;241m.\u001b[39mwrite_to_dataset(\n\u001b[1;32m    219\u001b[0m             table,\n\u001b[1;32m    220\u001b[0m             path_or_handle,\n\u001b[1;32m    221\u001b[0m             compression\u001b[38;5;241m=\u001b[39mcompression,\n\u001b[1;32m    222\u001b[0m             partition_cols\u001b[38;5;241m=\u001b[39mpartition_cols,\n\u001b[1;32m    223\u001b[0m             filesystem\u001b[38;5;241m=\u001b[39mfilesystem,\n\u001b[1;32m    224\u001b[0m             \u001b[38;5;241m*\u001b[39m\u001b[38;5;241m*\u001b[39mkwargs,\n\u001b[1;32m    225\u001b[0m         )\n\u001b[1;32m    226\u001b[0m     \u001b[38;5;28;01melse\u001b[39;00m:\n\u001b[1;32m    227\u001b[0m         \u001b[38;5;66;03m# write to single output file\u001b[39;00m\n\u001b[1;32m    228\u001b[0m         \u001b[38;5;28mself\u001b[39m\u001b[38;5;241m.\u001b[39mapi\u001b[38;5;241m.\u001b[39mparquet\u001b[38;5;241m.\u001b[39mwrite_table(\n\u001b[1;32m    229\u001b[0m             table,\n\u001b[1;32m    230\u001b[0m             path_or_handle,\n\u001b[0;32m   (...)\u001b[0m\n\u001b[1;32m    233\u001b[0m             \u001b[38;5;241m*\u001b[39m\u001b[38;5;241m*\u001b[39mkwargs,\n\u001b[1;32m    234\u001b[0m         )\n",
      "File \u001b[0;32m~/miniconda3/envs/dev1/lib/python3.11/site-packages/pyarrow/parquet/core.py:2138\u001b[0m, in \u001b[0;36mwrite_to_dataset\u001b[0;34m(table, root_path, partition_cols, filesystem, use_legacy_dataset, schema, partitioning, basename_template, use_threads, file_visitor, existing_data_behavior, **kwargs)\u001b[0m\n\u001b[1;32m   2135\u001b[0m \u001b[38;5;28;01mif\u001b[39;00m existing_data_behavior \u001b[38;5;129;01mis\u001b[39;00m \u001b[38;5;28;01mNone\u001b[39;00m:\n\u001b[1;32m   2136\u001b[0m     existing_data_behavior \u001b[38;5;241m=\u001b[39m \u001b[38;5;124m'\u001b[39m\u001b[38;5;124moverwrite_or_ignore\u001b[39m\u001b[38;5;124m'\u001b[39m\n\u001b[0;32m-> 2138\u001b[0m ds\u001b[38;5;241m.\u001b[39mwrite_dataset(\n\u001b[1;32m   2139\u001b[0m     table, root_path, filesystem\u001b[38;5;241m=\u001b[39mfilesystem,\n\u001b[1;32m   2140\u001b[0m     \u001b[38;5;28mformat\u001b[39m\u001b[38;5;241m=\u001b[39mparquet_format, file_options\u001b[38;5;241m=\u001b[39mwrite_options, schema\u001b[38;5;241m=\u001b[39mschema,\n\u001b[1;32m   2141\u001b[0m     partitioning\u001b[38;5;241m=\u001b[39mpartitioning, use_threads\u001b[38;5;241m=\u001b[39muse_threads,\n\u001b[1;32m   2142\u001b[0m     file_visitor\u001b[38;5;241m=\u001b[39mfile_visitor,\n\u001b[1;32m   2143\u001b[0m     basename_template\u001b[38;5;241m=\u001b[39mbasename_template,\n\u001b[1;32m   2144\u001b[0m     existing_data_behavior\u001b[38;5;241m=\u001b[39mexisting_data_behavior,\n\u001b[1;32m   2145\u001b[0m     \u001b[38;5;241m*\u001b[39m\u001b[38;5;241m*\u001b[39mwrite_dataset_kwargs)\n\u001b[1;32m   2146\u001b[0m \u001b[38;5;28;01mreturn\u001b[39;00m\n",
      "File \u001b[0;32m~/miniconda3/envs/dev1/lib/python3.11/site-packages/pyarrow/dataset.py:1030\u001b[0m, in \u001b[0;36mwrite_dataset\u001b[0;34m(data, base_dir, basename_template, format, partitioning, partitioning_flavor, schema, filesystem, file_options, use_threads, max_partitions, max_open_files, max_rows_per_file, min_rows_per_group, max_rows_per_group, file_visitor, existing_data_behavior, create_dir)\u001b[0m\n\u001b[1;32m   1027\u001b[0m         \u001b[38;5;28;01mraise\u001b[39;00m \u001b[38;5;167;01mValueError\u001b[39;00m(\u001b[38;5;124m\"\u001b[39m\u001b[38;5;124mCannot specify a schema when writing a Scanner\u001b[39m\u001b[38;5;124m\"\u001b[39m)\n\u001b[1;32m   1028\u001b[0m     scanner \u001b[38;5;241m=\u001b[39m data\n\u001b[0;32m-> 1030\u001b[0m _filesystemdataset_write(\n\u001b[1;32m   1031\u001b[0m     scanner, base_dir, basename_template, filesystem, partitioning,\n\u001b[1;32m   1032\u001b[0m     file_options, max_partitions, file_visitor, existing_data_behavior,\n\u001b[1;32m   1033\u001b[0m     max_open_files, max_rows_per_file,\n\u001b[1;32m   1034\u001b[0m     min_rows_per_group, max_rows_per_group, create_dir\n\u001b[1;32m   1035\u001b[0m )\n",
      "File \u001b[0;32m~/miniconda3/envs/dev1/lib/python3.11/site-packages/pyarrow/_dataset.pyx:4010\u001b[0m, in \u001b[0;36mpyarrow._dataset._filesystemdataset_write\u001b[0;34m()\u001b[0m\n",
      "File \u001b[0;32m~/miniconda3/envs/dev1/lib/python3.11/site-packages/pyarrow/error.pxi:88\u001b[0m, in \u001b[0;36mpyarrow.lib.check_status\u001b[0;34m()\u001b[0m\n",
      "File \u001b[0;32m~/miniconda3/envs/dev1/lib/python3.11/site-packages/pyarrow/_fs.pyx:1532\u001b[0m, in \u001b[0;36mpyarrow._fs._cb_create_dir\u001b[0;34m()\u001b[0m\n",
      "File \u001b[0;32m~/miniconda3/envs/dev1/lib/python3.11/site-packages/pyarrow/fs.py:361\u001b[0m, in \u001b[0;36mFSSpecHandler.create_dir\u001b[0;34m(self, path, recursive)\u001b[0m\n\u001b[1;32m    358\u001b[0m \u001b[38;5;28;01mdef\u001b[39;00m \u001b[38;5;21mcreate_dir\u001b[39m(\u001b[38;5;28mself\u001b[39m, path, recursive):\n\u001b[1;32m    359\u001b[0m     \u001b[38;5;66;03m# mkdir also raises FileNotFoundError when base directory is not found\u001b[39;00m\n\u001b[1;32m    360\u001b[0m     \u001b[38;5;28;01mtry\u001b[39;00m:\n\u001b[0;32m--> 361\u001b[0m         \u001b[38;5;28mself\u001b[39m\u001b[38;5;241m.\u001b[39mfs\u001b[38;5;241m.\u001b[39mmkdir(path, create_parents\u001b[38;5;241m=\u001b[39mrecursive)\n\u001b[1;32m    362\u001b[0m     \u001b[38;5;28;01mexcept\u001b[39;00m \u001b[38;5;167;01mFileExistsError\u001b[39;00m:\n\u001b[1;32m    363\u001b[0m         \u001b[38;5;28;01mpass\u001b[39;00m\n",
      "File \u001b[0;32m~/miniconda3/envs/dev1/lib/python3.11/site-packages/fsspec/asyn.py:118\u001b[0m, in \u001b[0;36msync_wrapper.<locals>.wrapper\u001b[0;34m(*args, **kwargs)\u001b[0m\n\u001b[1;32m    115\u001b[0m \u001b[38;5;129m@functools\u001b[39m\u001b[38;5;241m.\u001b[39mwraps(func)\n\u001b[1;32m    116\u001b[0m \u001b[38;5;28;01mdef\u001b[39;00m \u001b[38;5;21mwrapper\u001b[39m(\u001b[38;5;241m*\u001b[39margs, \u001b[38;5;241m*\u001b[39m\u001b[38;5;241m*\u001b[39mkwargs):\n\u001b[1;32m    117\u001b[0m     \u001b[38;5;28mself\u001b[39m \u001b[38;5;241m=\u001b[39m obj \u001b[38;5;129;01mor\u001b[39;00m args[\u001b[38;5;241m0\u001b[39m]\n\u001b[0;32m--> 118\u001b[0m     \u001b[38;5;28;01mreturn\u001b[39;00m sync(\u001b[38;5;28mself\u001b[39m\u001b[38;5;241m.\u001b[39mloop, func, \u001b[38;5;241m*\u001b[39margs, \u001b[38;5;241m*\u001b[39m\u001b[38;5;241m*\u001b[39mkwargs)\n",
      "File \u001b[0;32m~/miniconda3/envs/dev1/lib/python3.11/site-packages/fsspec/asyn.py:103\u001b[0m, in \u001b[0;36msync\u001b[0;34m(loop, func, timeout, *args, **kwargs)\u001b[0m\n\u001b[1;32m    101\u001b[0m     \u001b[38;5;28;01mraise\u001b[39;00m FSTimeoutError \u001b[38;5;28;01mfrom\u001b[39;00m \u001b[38;5;21;01mreturn_result\u001b[39;00m\n\u001b[1;32m    102\u001b[0m \u001b[38;5;28;01melif\u001b[39;00m \u001b[38;5;28misinstance\u001b[39m(return_result, \u001b[38;5;167;01mBaseException\u001b[39;00m):\n\u001b[0;32m--> 103\u001b[0m     \u001b[38;5;28;01mraise\u001b[39;00m return_result\n\u001b[1;32m    104\u001b[0m \u001b[38;5;28;01melse\u001b[39;00m:\n\u001b[1;32m    105\u001b[0m     \u001b[38;5;28;01mreturn\u001b[39;00m return_result\n",
      "File \u001b[0;32m~/miniconda3/envs/dev1/lib/python3.11/site-packages/fsspec/asyn.py:56\u001b[0m, in \u001b[0;36m_runner\u001b[0;34m(event, coro, result, timeout)\u001b[0m\n\u001b[1;32m     54\u001b[0m     coro \u001b[38;5;241m=\u001b[39m asyncio\u001b[38;5;241m.\u001b[39mwait_for(coro, timeout\u001b[38;5;241m=\u001b[39mtimeout)\n\u001b[1;32m     55\u001b[0m \u001b[38;5;28;01mtry\u001b[39;00m:\n\u001b[0;32m---> 56\u001b[0m     result[\u001b[38;5;241m0\u001b[39m] \u001b[38;5;241m=\u001b[39m \u001b[38;5;28;01mawait\u001b[39;00m coro\n\u001b[1;32m     57\u001b[0m \u001b[38;5;28;01mexcept\u001b[39;00m \u001b[38;5;167;01mException\u001b[39;00m \u001b[38;5;28;01mas\u001b[39;00m ex:\n\u001b[1;32m     58\u001b[0m     result[\u001b[38;5;241m0\u001b[39m] \u001b[38;5;241m=\u001b[39m ex\n",
      "File \u001b[0;32m~/miniconda3/envs/dev1/lib/python3.11/site-packages/s3fs/core.py:922\u001b[0m, in \u001b[0;36mS3FileSystem._mkdir\u001b[0;34m(self, path, acl, create_parents, **kwargs)\u001b[0m\n\u001b[1;32m    918\u001b[0m \u001b[38;5;28;01mif\u001b[39;00m region_name:\n\u001b[1;32m    919\u001b[0m     params[\u001b[38;5;124m\"\u001b[39m\u001b[38;5;124mCreateBucketConfiguration\u001b[39m\u001b[38;5;124m\"\u001b[39m] \u001b[38;5;241m=\u001b[39m {\n\u001b[1;32m    920\u001b[0m         \u001b[38;5;124m\"\u001b[39m\u001b[38;5;124mLocationConstraint\u001b[39m\u001b[38;5;124m\"\u001b[39m: region_name\n\u001b[1;32m    921\u001b[0m     }\n\u001b[0;32m--> 922\u001b[0m \u001b[38;5;28;01mawait\u001b[39;00m \u001b[38;5;28mself\u001b[39m\u001b[38;5;241m.\u001b[39m_call_s3(\u001b[38;5;124m\"\u001b[39m\u001b[38;5;124mcreate_bucket\u001b[39m\u001b[38;5;124m\"\u001b[39m, \u001b[38;5;241m*\u001b[39m\u001b[38;5;241m*\u001b[39mparams)\n\u001b[1;32m    923\u001b[0m \u001b[38;5;28mself\u001b[39m\u001b[38;5;241m.\u001b[39minvalidate_cache(\u001b[38;5;124m\"\u001b[39m\u001b[38;5;124m\"\u001b[39m)\n\u001b[1;32m    924\u001b[0m \u001b[38;5;28mself\u001b[39m\u001b[38;5;241m.\u001b[39minvalidate_cache(bucket)\n",
      "File \u001b[0;32m~/miniconda3/envs/dev1/lib/python3.11/site-packages/s3fs/core.py:365\u001b[0m, in \u001b[0;36mS3FileSystem._call_s3\u001b[0;34m(self, method, *akwarglist, **kwargs)\u001b[0m\n\u001b[1;32m    363\u001b[0m logger\u001b[38;5;241m.\u001b[39mdebug(\u001b[38;5;124m\"\u001b[39m\u001b[38;5;124mCALL: \u001b[39m\u001b[38;5;132;01m%s\u001b[39;00m\u001b[38;5;124m - \u001b[39m\u001b[38;5;132;01m%s\u001b[39;00m\u001b[38;5;124m - \u001b[39m\u001b[38;5;132;01m%s\u001b[39;00m\u001b[38;5;124m\"\u001b[39m, method\u001b[38;5;241m.\u001b[39m\u001b[38;5;18m__name__\u001b[39m, akwarglist, kw2)\n\u001b[1;32m    364\u001b[0m additional_kwargs \u001b[38;5;241m=\u001b[39m \u001b[38;5;28mself\u001b[39m\u001b[38;5;241m.\u001b[39m_get_s3_method_kwargs(method, \u001b[38;5;241m*\u001b[39makwarglist, \u001b[38;5;241m*\u001b[39m\u001b[38;5;241m*\u001b[39mkwargs)\n\u001b[0;32m--> 365\u001b[0m \u001b[38;5;28;01mreturn\u001b[39;00m \u001b[38;5;28;01mawait\u001b[39;00m _error_wrapper(\n\u001b[1;32m    366\u001b[0m     method, kwargs\u001b[38;5;241m=\u001b[39madditional_kwargs, retries\u001b[38;5;241m=\u001b[39m\u001b[38;5;28mself\u001b[39m\u001b[38;5;241m.\u001b[39mretries\n\u001b[1;32m    367\u001b[0m )\n",
      "File \u001b[0;32m~/miniconda3/envs/dev1/lib/python3.11/site-packages/s3fs/core.py:145\u001b[0m, in \u001b[0;36m_error_wrapper\u001b[0;34m(func, args, kwargs, retries)\u001b[0m\n\u001b[1;32m    143\u001b[0m         err \u001b[38;5;241m=\u001b[39m e\n\u001b[1;32m    144\u001b[0m err \u001b[38;5;241m=\u001b[39m translate_boto_error(err)\n\u001b[0;32m--> 145\u001b[0m \u001b[38;5;28;01mraise\u001b[39;00m err\n",
      "\u001b[0;31mPermissionError\u001b[0m: The AWS Access Key Id you provided does not exist in our records."
     ]
    }
   ],
   "source": [
    "# Finally write the data to S3 \n",
    "# Parition by Country\n",
    "\n",
    "# Your code here\n",
    "\n",
    "file = 's3://techcatalyst-transformed/SalesTransformed/sriya/sales_data_transformed.parquet'\n",
    "    \n",
    "\n",
    "df.to_parquet(file, partition_cols=['Country'],\n",
    "              storage_options={\n",
    "                   'key' : AWS_ACCESS_KEY,\n",
    "                   'secret' : AWS_SECRET_KEY\n",
    "               }\n",
    "             )\n",
    "print('done')\n"
   ]
  },
  {
   "cell_type": "code",
   "execution_count": null,
   "id": "b90f8e6b-6ffa-46f6-813c-e1ae2e60c95f",
   "metadata": {},
   "outputs": [],
   "source": []
  }
 ],
 "metadata": {
  "kernelspec": {
   "display_name": "Python 3",
   "language": "python",
   "name": "python3"
  },
  "language_info": {
   "codemirror_mode": {
    "name": "ipython",
    "version": 3
   },
   "file_extension": ".py",
   "mimetype": "text/x-python",
   "name": "python",
   "nbconvert_exporter": "python",
   "pygments_lexer": "ipython3",
   "version": "3.10.13"
  }
 },
 "nbformat": 4,
 "nbformat_minor": 5
}
