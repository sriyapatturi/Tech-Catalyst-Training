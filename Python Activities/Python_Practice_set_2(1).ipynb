{
 "cells": [
  {
   "cell_type": "markdown",
   "id": "1f79df08-5407-4418-9fa2-19783f450085",
   "metadata": {},
   "source": [
    "## Activity 1: Working with Lists and Dictionaries\n",
    "\n",
    "**Objective**: Create a function that takes a list of dictionaries containing student names and their scores, then returns a dictionary with the student names as keys and their scores as values.\n",
    "\n",
    "**Instructions**:\n",
    "\n",
    "* Write a function named `list_to_dict` that takes a list of dictionaries.\n",
    "* Each dictionary in the list has two keys: 'name' and 'score'.\n",
    "* The function should return a dictionary where the keys are student names and the values are their scores."
   ]
  },
  {
   "cell_type": "code",
   "execution_count": 3,
   "id": "59c5a758-afbe-4c2c-af57-af553c0061b0",
   "metadata": {},
   "outputs": [
    {
     "name": "stdout",
     "output_type": "stream",
     "text": [
      "All test cases passed!\n"
     ]
    }
   ],
   "source": [
    "# Define the function list_to_dict\n",
    "def list_to_dict(student_list):\n",
    "    \"\"\"\n",
    "    Converts a list of dictionaries to a single dictionary with names as keys and scores as values.\n",
    "\n",
    "    Parameters:\n",
    "    student_list (list): A list of dictionaries, each with 'name' and 'score' keys.\n",
    "\n",
    "    Returns:\n",
    "    dict: A dictionary with student names as keys and their scores as values.\n",
    "    \"\"\"\n",
    "    result = {}\n",
    "    for element in student_list:\n",
    "        name = element['name']\n",
    "        score = element['score']\n",
    "        result[name] = score\n",
    "    # TODO: Complete the function to convert the list of dictionaries to a single dictionary\n",
    "    return result\n",
    "\n",
    "# Example input\n",
    "students = [\n",
    "    {'name': 'Alice', 'score': 90},\n",
    "    {'name': 'Bob', 'score': 85},\n",
    "    {'name': 'Charlie', 'score': 92}\n",
    "]\n",
    "\n",
    "# Call the function with example input\n",
    "output = list_to_dict(students)\n",
    "\n",
    "# Asserts to ensure the function is working correctly\n",
    "assert output == {'Alice': 90, 'Bob': 85, 'Charlie': 92}, \"Test Case 1 Failed\"\n",
    "\n",
    "print(\"All test cases passed!\")\n"
   ]
  },
  {
   "cell_type": "markdown",
   "id": "23500acb-de14-4cbe-b04f-ea1d57dffed9",
   "metadata": {},
   "source": [
    "## Activity 2: Reading and Writing Files\n",
    "\n",
    "**Objective**: Write a function that reads a CSV file containing student names and scores, then writes the data to a new CSV file with an additional column for grades.\n",
    "\n",
    "**Instructions**:\n",
    "\n",
    "* Write a function named add_grades that takes two arguments: `input_file` and `output_file`.\n",
    "* Write the DataFrame `sample_data` into a CSV file `students_scores.csv`\n",
    "* Read the data from `input_file`. The file contains two columns: 'name' and 'score'.\n",
    "* Add a new column 'grade' based on the following criteria:\n",
    "    * 'A' for scores 90 and above\n",
    "    * 'B' for scores between 80 and 89\n",
    "    * 'C' for scores between 70 and 79\n",
    "    * 'D' for scores between 60 and 69\n",
    "    * 'F' for scores below 60\n",
    "* Write the updated data to `output_file` with the new 'grade' column."
   ]
  },
  {
   "cell_type": "code",
   "execution_count": 6,
   "id": "e35163de-e9dd-4c1b-bdc9-3c1a363495f9",
   "metadata": {},
   "outputs": [
    {
     "name": "stdout",
     "output_type": "stream",
     "text": [
      "All test cases passed!\n"
     ]
    }
   ],
   "source": [
    "import pandas as pd\n",
    "\n",
    "# Define the function add_grades\n",
    "\n",
    "def apply_grades(row):\n",
    "    if row['score'] >= 90:\n",
    "        return 'A'\n",
    "    elif row['score'] >= 80 and row['score'] <= 89:\n",
    "        return 'B'\n",
    "    elif row['score'] >= 70 and row['score'] <= 79:\n",
    "        return 'C'\n",
    "    elif row['score'] >= 60 and row['score'] <= 69:\n",
    "        return 'D'\n",
    "    elif row['score'] < 60:\n",
    "        return 'F'\n",
    "        \n",
    "def add_grades(input_file, output_file):\n",
    "    df = pd.read_csv(input_file)\n",
    "    df['grade'] = df.apply(apply_grades, axis=1)\n",
    "    # another way to type the above: df['grade'] = df['score'].apply(apply_grades)\n",
    "    df.to_csv(output_file, index = False)\n",
    "    \n",
    "    \n",
    "    \"\"\"\n",
    "    Reads a CSV file, adds a grade column based on the score, and writes to a new CSV file.\n",
    "\n",
    "    Parameters:\n",
    "    input_file (str): The path to the input CSV file.\n",
    "    output_file (str): The path to the output CSV file.\n",
    "    \"\"\"\n",
    "    # TODO: Complete the function to read, process, and write the CSV file\n",
    "# Example usage\n",
    "input_file = 'students_scores.csv'\n",
    "output_file = 'students_with_grades.csv'\n",
    "\n",
    "# Create a sample input file for testing purposes\n",
    "sample_data = pd.DataFrame({\n",
    "    'name': ['Alice', 'Bob', 'Charlie', 'David'],\n",
    "    'score': [95, 82, 78, 61]\n",
    "})\n",
    "sample_data.to_csv(input_file, index=False)\n",
    "\n",
    "# Call the function with example input\n",
    "add_grades(input_file, output_file)\n",
    "\n",
    "# Asserts to ensure the function is working correctly\n",
    "output_data = pd.read_csv(output_file)\n",
    "assert 'grade' in output_data.columns, \"Grade column is missing\"\n",
    "assert output_data.loc[output_data['name'] == 'Alice', 'grade'].values[0] == 'A', \"Alice's grade is incorrect\"\n",
    "assert output_data.loc[output_data['name'] == 'Bob', 'grade'].values[0] == 'B', \"Bob's grade is incorrect\"\n",
    "assert output_data.loc[output_data['name'] == 'Charlie', 'grade'].values[0] == 'C', \"Charlie's grade is incorrect\"\n",
    "assert output_data.loc[output_data['name'] == 'David', 'grade'].values[0] == 'D', \"David's grade is incorrect\"\n",
    "\n",
    "print(\"All test cases passed!\")\n"
   ]
  },
  {
   "cell_type": "code",
   "execution_count": null,
   "id": "5b3d314c-eada-44b2-8199-453bdfa4b8ed",
   "metadata": {},
   "outputs": [],
   "source": [
    "# converting a series to a dataframe and a list to a dataframe\n"
   ]
  },
  {
   "cell_type": "markdown",
   "id": "b6f52739-6225-4227-8c85-8113e02fc3df",
   "metadata": {},
   "source": [
    "## Activity 3: Creating and Using Custom Functions\n",
    "\n",
    "**Objective**: Create a function that takes a list of numbers and returns a dictionary with the count of even and odd numbers.\n",
    "\n",
    "**Instructions**:\n",
    "\n",
    "* Write a function named `count_even_odd` that takes a list of integers.\n",
    "* The function should return a dictionary with two keys: 'even' and 'odd'.\n",
    "* The values should be the counts of even and odd numbers in the input list."
   ]
  },
  {
   "cell_type": "code",
   "execution_count": 7,
   "id": "fa507e8f-e238-4e30-bfac-bc35db98ab44",
   "metadata": {},
   "outputs": [
    {
     "name": "stdout",
     "output_type": "stream",
     "text": [
      "All test cases passed!\n"
     ]
    }
   ],
   "source": [
    "# Define the function count_even_odd\n",
    "def count_even_odd(numbers):\n",
    "    \"\"\"\n",
    "    Counts the number of even and odd numbers in the list.\n",
    "\n",
    "    Parameters:\n",
    "    numbers (list): A list of integers.\n",
    "\n",
    "    Returns:\n",
    "    dict: A dictionary with counts of even and odd numbers.\n",
    "    \"\"\"\n",
    "    result = {'even': 0, 'odd': 0}\n",
    "    even_count = 0\n",
    "    odd_count = 0\n",
    "    for element in numbers:\n",
    "        if element % 2 == 1:\n",
    "            odd_count += 1\n",
    "        else:\n",
    "            even_count += 1\n",
    "    result['even'] = even_count\n",
    "    result['odd'] = odd_count\n",
    "    # TODO: Complete the function to count even and odd numbers\n",
    "    return result\n",
    "\n",
    "# Example input\n",
    "numbers = [1, 2, 3, 4, 5, 6, 7, 8, 9, 10]\n",
    "\n",
    "# Call the function with example input\n",
    "output = count_even_odd(numbers)\n",
    "\n",
    "# Asserts to ensure the function is working correctly\n",
    "assert output == {'even': 5, 'odd': 5}, \"Test Case 1 Failed\"\n",
    "\n",
    "print(\"All test cases passed!\")\n"
   ]
  },
  {
   "cell_type": "markdown",
   "id": "a3777278-cea3-4051-984b-27977789060f",
   "metadata": {},
   "source": [
    "## Activity 4: Fun and Challenging Input-Based Function\n",
    "\n",
    "**Objective**: Create a function that asks the user for a series of numbers, calculates the sum, average, minimum, and maximum, and returns these values in a dictionary.\n",
    "\n",
    "**Instructions**:\n",
    "\n",
    "* Write a function named `calculate_statistics` that:\n",
    "* Asks the user to input a series of numbers separated by spaces.\n",
    "* Converts the input string to a list of integers.\n",
    "* Calculates the sum, average, minimum, and maximum of the numbers.\n",
    "* Returns these values in a dictionary with keys: 'sum', 'average', 'min', and 'max'."
   ]
  },
  {
   "cell_type": "code",
   "execution_count": 9,
   "id": "c3f80532-d54c-43fa-b1f4-bbb3e98e0cb6",
   "metadata": {},
   "outputs": [
    {
     "name": "stdin",
     "output_type": "stream",
     "text": [
      "Enter a series of numbers separated by spaces:  1 2 3 5 5 6\n"
     ]
    },
    {
     "name": "stdout",
     "output_type": "stream",
     "text": [
      "{'sum': 22, 'average': 3.6666666666666665, 'min': 1, 'max': 6}\n",
      "All test cases passed!\n"
     ]
    }
   ],
   "source": [
    "# Define the function calculate_statistics\n",
    "def calculate_statistics():\n",
    "    \"\"\"\n",
    "    Requests the user to input a series of numbers, calculates the sum, average,\n",
    "    minimum, and maximum, and returns these values in a dictionary.\n",
    "\n",
    "    Returns:\n",
    "    dict: A dictionary with keys 'sum', 'average', 'min', 'max' and their respective values.\n",
    "    \"\"\"\n",
    "    # Request user input\n",
    "    input_str = input(\"Enter a series of numbers separated by spaces: \")\n",
    "    \n",
    "    # TODO: Convert input string to a list of integers\n",
    "    integers_list = input_str.split(' ')\n",
    "\n",
    "    \n",
    "    # TODO: Calculate sum, average, min, and max\n",
    "    sum = sum(integers_list)\n",
    "    average = sum / len(integers_list)\n",
    "    \n",
    "\n",
    "    \n",
    "    # TODO: Create the result dictionary\n",
    "    result = {\n",
    "        \n",
    "    }\n",
    "    \n",
    "    return result\n",
    "\n",
    "# Example usage\n",
    "if __name__ == \"__main__\":\n",
    "    # Call the function and print the result\n",
    "    statistics = calculate_statistics()\n",
    "    print(statistics)\n",
    "\n",
    "# Example asserts for testing the function (you can simulate inputs when testing)\n",
    "def test_calculate_statistics():\n",
    "    import builtins\n",
    "    input_values = [\"1 2 3 4 5\"]\n",
    "    output = []\n",
    "\n",
    "    def mock_input(s):\n",
    "        output.append(s)\n",
    "        return input_values.pop(0)\n",
    "\n",
    "    builtins.input = mock_input\n",
    "    result = calculate_statistics()\n",
    "\n",
    "    # Asserts to ensure the function is working correctly\n",
    "    assert result == {'sum': 15, 'average': 3.0, 'min': 1, 'max': 5}, \"Test Case 1 Failed\"\n",
    "    print(\"All test cases passed!\")\n",
    "\n",
    "# Run the test\n",
    "test_calculate_statistics()\n"
   ]
  },
  {
   "cell_type": "code",
   "execution_count": null,
   "id": "a82d20b7-75b8-43ec-b1a5-a3286a061a4a",
   "metadata": {},
   "outputs": [],
   "source": []
  }
 ],
 "metadata": {
  "kernelspec": {
   "display_name": "Python [conda env:dev1]",
   "language": "python",
   "name": "conda-env-dev1-py"
  },
  "language_info": {
   "codemirror_mode": {
    "name": "ipython",
    "version": 3
   },
   "file_extension": ".py",
   "mimetype": "text/x-python",
   "name": "python",
   "nbconvert_exporter": "python",
   "pygments_lexer": "ipython3",
   "version": "3.11.9"
  }
 },
 "nbformat": 4,
 "nbformat_minor": 5
}
