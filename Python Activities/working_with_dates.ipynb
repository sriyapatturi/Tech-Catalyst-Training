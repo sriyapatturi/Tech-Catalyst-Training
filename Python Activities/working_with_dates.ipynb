{
 "cells": [
  {
   "cell_type": "code",
   "execution_count": null,
   "id": "87cb0875-c07b-4ce2-bcf9-cfe6471052da",
   "metadata": {},
   "outputs": [],
   "source": []
  },
  {
   "cell_type": "code",
   "execution_count": null,
   "id": "6e831bca-e9f0-46ab-ae4e-4debfe358a82",
   "metadata": {},
   "outputs": [],
   "source": []
  },
  {
   "cell_type": "code",
   "execution_count": null,
   "id": "44f40364-ecfd-4aa5-9f1b-d9b234beb9e5",
   "metadata": {},
   "outputs": [],
   "source": [
    "datetimetoday = dt.datetime.now()"
   ]
  },
  {
   "cell_type": "code",
   "execution_count": null,
   "id": "eb40d788-5e51-4855-aa83-cfe3b08c2d4b",
   "metadata": {},
   "outputs": [],
   "source": [
    "print(todaydate)"
   ]
  },
  {
   "cell_type": "code",
   "execution_count": null,
   "id": "b575107f-8c59-426b-8b12-0d87eb6420a5",
   "metadata": {},
   "outputs": [],
   "source": [
    "type(datetimetoday)"
   ]
  },
  {
   "cell_type": "code",
   "execution_count": 1,
   "id": "bc077a41-5e6d-4f52-ae8a-a02c5c929324",
   "metadata": {},
   "outputs": [
    {
     "ename": "NameError",
     "evalue": "name 'dt' is not defined",
     "output_type": "error",
     "traceback": [
      "\u001b[0;31m---------------------------------------------------------------------------\u001b[0m",
      "\u001b[0;31mNameError\u001b[0m                                 Traceback (most recent call last)",
      "Cell \u001b[0;32mIn[1], line 1\u001b[0m\n\u001b[0;32m----> 1\u001b[0m dt\u001b[38;5;241m.\u001b[39mdatetime(\u001b[38;5;241m2000\u001b[39m,\u001b[38;5;241m1\u001b[39m,\u001b[38;5;241m1\u001b[39m)\n",
      "\u001b[0;31mNameError\u001b[0m: name 'dt' is not defined"
     ]
    }
   ],
   "source": [
    "print(dt.datetime(2000, 12, 31))"
   ]
  },
  {
   "cell_type": "code",
   "execution_count": 2,
   "id": "4018f5d7-4a4c-41cd-b23f-833587623255",
   "metadata": {},
   "outputs": [
    {
     "ename": "NameError",
     "evalue": "name 'pd' is not defined",
     "output_type": "error",
     "traceback": [
      "\u001b[0;31m---------------------------------------------------------------------------\u001b[0m",
      "\u001b[0;31mNameError\u001b[0m                                 Traceback (most recent call last)",
      "Cell \u001b[0;32mIn[2], line 1\u001b[0m\n\u001b[0;32m----> 1\u001b[0m \u001b[38;5;28mprint\u001b[39m(pd\u001b[38;5;241m.\u001b[39mto_datetime(\u001b[38;5;124m'\u001b[39m\u001b[38;5;124m2001-12-31\u001b[39m\u001b[38;5;124m'\u001b[39m))\n",
      "\u001b[0;31mNameError\u001b[0m: name 'pd' is not defined"
     ]
    }
   ],
   "source": [
    "print(pd.to_datetime('2001-12-31'))"
   ]
  },
  {
   "cell_type": "code",
   "execution_count": 3,
   "id": "03e72b7f-c5e7-421e-b81f-1237e7d20d9e",
   "metadata": {},
   "outputs": [
    {
     "ename": "NameError",
     "evalue": "name 'pd' is not defined",
     "output_type": "error",
     "traceback": [
      "\u001b[0;31m---------------------------------------------------------------------------\u001b[0m",
      "\u001b[0;31mNameError\u001b[0m                                 Traceback (most recent call last)",
      "Cell \u001b[0;32mIn[3], line 1\u001b[0m\n\u001b[0;32m----> 1\u001b[0m \u001b[38;5;28mprint\u001b[39m(pd\u001b[38;5;241m.\u001b[39mto_datetime(\u001b[38;5;124m'\u001b[39m\u001b[38;5;124m12-31-2001\u001b[39m\u001b[38;5;124m'\u001b[39m))\n",
      "\u001b[0;31mNameError\u001b[0m: name 'pd' is not defined"
     ]
    }
   ],
   "source": [
    "print(pd.to_datetime('12-31-2001'))"
   ]
  },
  {
   "cell_type": "code",
   "execution_count": null,
   "id": "ebe2bc58-73cb-45d5-b86a-eb948544337a",
   "metadata": {},
   "outputs": [],
   "source": [
    "try:\n",
    "    pd.to_datetime('Saturday, Jaunary 1, 2022', format= '%A, %B %d, %y')\n",
    "except:\n",
    "    print('error')"
   ]
  },
  {
   "cell_type": "code",
   "execution_count": null,
   "id": "0a23460b-1520-403d-8f90-78adfcab18e4",
   "metadata": {},
   "outputs": [],
   "source": [
    "pd.to_datetime('Dec\\\\31\\\\2021', format='%b\\%d\\%Y')"
   ]
  },
  {
   "cell_type": "code",
   "execution_count": null,
   "id": "12c613fb-f341-42c3-840c-8a59633cdd8d",
   "metadata": {},
   "outputs": [],
   "source": [
    "#pd.reads_csv() function has a date_format parameter -> this goes to show that you can do transformation on date values at ingestion / read time"
   ]
  },
  {
   "cell_type": "code",
   "execution_count": null,
   "id": "8f1a1457-afa4-4d1a-90d3-b9b5bb7d8bd6",
   "metadata": {},
   "outputs": [],
   "source": [
    "df = pd.read_csv('test.csv',\n",
    "                 parse_dates=['Date'],\n",
    "                 date_format='%b*%d*%Y' # assuning date is coming as JAN*31*2024\n",
    "                )"
   ]
  },
  {
   "cell_type": "code",
   "execution_count": null,
   "id": "4ace5f62-97b2-4fed-9636-783d0a4be0bc",
   "metadata": {},
   "outputs": [],
   "source": [
    "# generate dates easily\n",
    "df = pd.DateFrame(pd.date_range(start='2021-01-01', end='2021-02-01'), columns=['Date'])"
   ]
  },
  {
   "cell_type": "code",
   "execution_count": null,
   "id": "6bd74b40-7ca1-4156-ad46-4336fd24270a",
   "metadata": {},
   "outputs": [],
   "source": [
    "df.info()"
   ]
  },
  {
   "cell_type": "code",
   "execution_count": null,
   "id": "64f5600f-04c6-4e40-9684-b3e563499e3e",
   "metadata": {},
   "outputs": [],
   "source": [
    "df['days in month'] = df['Date'].dt.days_in_month\n",
    "df['day name'] = df['Date'].dt.day_name()\n",
    "\n",
    "#format parameter in to_datetime function allows us to provide guidance/ instruction"
   ]
  },
  {
   "cell_type": "code",
   "execution_count": null,
   "id": "1119cc50-6f7a-446b-8d1e-a521a3a7af59",
   "metadata": {},
   "outputs": [],
   "source": [
    "pd.to_datetime(['something 2021', 'Jan 1, 2021'], errors='coerce') # anything not a date should be converted to 'NaT'\n",
    "# panda infers the format of each date individually if strings in the list are all of different formats"
   ]
  },
  {
   "cell_type": "code",
   "execution_count": null,
   "id": "663e05e7-c179-4721-8526-a8d27aa9bada",
   "metadata": {},
   "outputs": [],
   "source": [
    "pd.to_datetime(['Dec 2021', 'Jan 1, 2021', 'April 1, 2021', '12/31/2021'], errors='coerce') # if no value for day is provided, python automatically assumes that the value for day is 1\n"
   ]
  },
  {
   "cell_type": "code",
   "execution_count": null,
   "id": "abb3e3a8-cdda-47b4-a107-aa74e1ce9947",
   "metadata": {},
   "outputs": [],
   "source": [
    "import numpy as np"
   ]
  },
  {
   "cell_type": "code",
   "execution_count": null,
   "id": "2fa43e0e-ad14-4522-860f-f1232347c31d",
   "metadata": {},
   "outputs": [],
   "source": [
    "pd.Date"
   ]
  },
  {
   "cell_type": "code",
   "execution_count": null,
   "id": "3366805d-cc22-4011-886e-935730d26876",
   "metadata": {},
   "outputs": [],
   "source": [
    "# adding additional null values that the pandas isna() method may not be able to pick up:\n",
    "\n",
    "new = pd.read_csv('missing.csv', date_format='%b*%d*%Y', index_col='Date', na_values ={'<NO>', '?'})"
   ]
  },
  {
   "cell_type": "code",
   "execution_count": null,
   "id": "427da486-cc40-4705-9037-89a5fe6dcb7a",
   "metadata": {},
   "outputs": [],
   "source": [
    "import time"
   ]
  },
  {
   "cell_type": "code",
   "execution_count": null,
   "id": "59243b16-f6f0-45c6-9d02-80016da2588d",
   "metadata": {},
   "outputs": [],
   "source": [
    "time.time() # epoch time calculates the time starting from Jan 1, 1970, specifically how many seconds have elapsed since then, time() will give you seconds in UTC"
   ]
  },
  {
   "cell_type": "code",
   "execution_count": null,
   "id": "5747abcc-68ff-45a7-84ee-c7f17506d9e3",
   "metadata": {},
   "outputs": [],
   "source": [
    "t = pd.to_datetime(____________, unit='s')\n",
    "#running the above returns a value in Timestamp format\n",
    "# ________ represents a value in epoch time "
   ]
  },
  {
   "cell_type": "code",
   "execution_count": null,
   "id": "1ba7084f-f7aa-471f-8458-98dfb928c79d",
   "metadata": {},
   "outputs": [],
   "source": [
    "import datetime as dt"
   ]
  },
  {
   "cell_type": "code",
   "execution_count": null,
   "id": "515bf139-eb8e-4c5e-ae44-3905dedfa411",
   "metadata": {},
   "outputs": [],
   "source": [
    "print(dt.datetime.now())"
   ]
  },
  {
   "cell_type": "code",
   "execution_count": null,
   "id": "f9491d53-793c-449e-a8da-870ef76c997d",
   "metadata": {},
   "outputs": [],
   "source": [
    "t.tz_localize('UTC').tz_convert('US/Pacific') # to_localize() adds the extra information whereas tz_convert actually converts the time"
   ]
  }
 ],
 "metadata": {
  "kernelspec": {
   "display_name": "Python [conda env:dev1]",
   "language": "python",
   "name": "conda-env-dev1-py"
  },
  "language_info": {
   "codemirror_mode": {
    "name": "ipython",
    "version": 3
   },
   "file_extension": ".py",
   "mimetype": "text/x-python",
   "name": "python",
   "nbconvert_exporter": "python",
   "pygments_lexer": "ipython3",
   "version": "3.11.9"
  }
 },
 "nbformat": 4,
 "nbformat_minor": 5
}
